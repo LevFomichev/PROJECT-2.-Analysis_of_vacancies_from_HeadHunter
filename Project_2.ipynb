{
  "cells": [
    {
      "cell_type": "markdown",
      "id": "42289889-bd57-434e-9637-d3e354756316",
      "metadata": {
        "id": "42289889-bd57-434e-9637-d3e354756316"
      },
      "source": [
        "<center> <img src = https://raw.githubusercontent.com/AndreyRysistov/DatasetsForPandas/main/hh%20label.jpg alt=\"drawing\" style=\"width:400px;\">"
      ]
    },
    {
      "cell_type": "markdown",
      "id": "829cb75b-f14e-4ba8-9195-7ba929a7d656",
      "metadata": {
        "id": "829cb75b-f14e-4ba8-9195-7ba929a7d656",
        "tags": []
      },
      "source": [
        "# <center> Проект-2: Анализ вакансий из HeadHunter\n",
        "   "
      ]
    },
    {
      "cell_type": "code",
      "execution_count": 23,
      "id": "dccfde33-2452-43fb-a8a5-5c6ebc02a71d",
      "metadata": {
        "id": "dccfde33-2452-43fb-a8a5-5c6ebc02a71d"
      },
      "outputs": [],
      "source": [
        "# Импортируем необходимые нам библиотеки\n",
        "\n",
        "import pandas as pd\n",
        "import psycopg2\n",
        "\n",
        "# Игнорируем всплывающие предупрежедения \n",
        "import warnings\n",
        "warnings.filterwarnings('ignore', category=UserWarning)"
      ]
    },
    {
      "cell_type": "code",
      "execution_count": 25,
      "id": "G4X_q8KBf7SF",
      "metadata": {
        "id": "G4X_q8KBf7SF"
      },
      "outputs": [],
      "source": [
        "# Подключаемся к нашей базе данных для выполнения запросов из ноутбука\n",
        "\n",
        "connection = psycopg2.connect(\n",
        "    dbname=DBNAME,\n",
        "    user=USER,\n",
        "    host=HOST,\n",
        "    password=PASSWORD,\n",
        "    port=PORT\n",
        ")"
      ]
    },
    {
      "cell_type": "markdown",
      "id": "0dc6476b-7a00-44f1-ac93-6e3baed33a29",
      "metadata": {
        "id": "0dc6476b-7a00-44f1-ac93-6e3baed33a29"
      },
      "source": [
        "## Юнит 3. Предварительный анализ данных"
      ]
    },
    {
      "cell_type": "markdown",
      "id": "889782b6-8d1c-410e-8920-e57f27917c64",
      "metadata": {
        "id": "889782b6-8d1c-410e-8920-e57f27917c64"
      },
      "source": [
        "1. Напишите запрос, который посчитает количество вакансий в нашей базе (вакансии находятся в таблице vacancies). "
      ]
    },
    {
      "cell_type": "code",
      "execution_count": 26,
      "id": "bc39e68e-ed02-4ee2-9235-7258a2f867a8",
      "metadata": {
        "id": "bc39e68e-ed02-4ee2-9235-7258a2f867a8"
      },
      "outputs": [],
      "source": [
        "# Считаем количество записей в таблице 'vacancies'\n",
        "\n",
        "query_3_1 = f'''\n",
        "SELECT\n",
        "     COUNT(*) vacancies_cnt\n",
        "FROM\n",
        "     vacancies\n",
        "'''"
      ]
    },
    {
      "cell_type": "code",
      "execution_count": 27,
      "id": "7mAwtsk4hEHY",
      "metadata": {
        "id": "7mAwtsk4hEHY"
      },
      "outputs": [
        {
          "data": {
            "text/html": [
              "<div>\n",
              "<style scoped>\n",
              "    .dataframe tbody tr th:only-of-type {\n",
              "        vertical-align: middle;\n",
              "    }\n",
              "\n",
              "    .dataframe tbody tr th {\n",
              "        vertical-align: top;\n",
              "    }\n",
              "\n",
              "    .dataframe thead th {\n",
              "        text-align: right;\n",
              "    }\n",
              "</style>\n",
              "<table border=\"1\" class=\"dataframe\">\n",
              "  <thead>\n",
              "    <tr style=\"text-align: right;\">\n",
              "      <th></th>\n",
              "      <th>vacancies_cnt</th>\n",
              "    </tr>\n",
              "  </thead>\n",
              "  <tbody>\n",
              "    <tr>\n",
              "      <th>0</th>\n",
              "      <td>49197</td>\n",
              "    </tr>\n",
              "  </tbody>\n",
              "</table>\n",
              "</div>"
            ],
            "text/plain": [
              "   vacancies_cnt\n",
              "0          49197"
            ]
          },
          "execution_count": 27,
          "metadata": {},
          "output_type": "execute_result"
        }
      ],
      "source": [
        "df = pd.read_sql_query(query_3_1, connection)\n",
        "df"
      ]
    },
    {
      "cell_type": "markdown",
      "id": "b583485d-1f9e-494e-ada4-80ffff7c53d6",
      "metadata": {
        "id": "b583485d-1f9e-494e-ada4-80ffff7c53d6"
      },
      "source": [
        "2. Напишите запрос, который посчитает количество работодателей (таблица employers). "
      ]
    },
    {
      "cell_type": "code",
      "execution_count": 28,
      "id": "5408c52c-3407-4a63-b25b-1aafa2322d28",
      "metadata": {
        "id": "5408c52c-3407-4a63-b25b-1aafa2322d28"
      },
      "outputs": [],
      "source": [
        "# Считаем количество записей в таблице 'employers'\n",
        "\n",
        "query_3_2 = f'''\n",
        "SELECT\n",
        "     COUNT(*) employers_cnt\n",
        "FROM\n",
        "     employers\n",
        "'''"
      ]
    },
    {
      "cell_type": "code",
      "execution_count": 29,
      "id": "jVL4eshKhdqc",
      "metadata": {
        "id": "jVL4eshKhdqc"
      },
      "outputs": [
        {
          "data": {
            "text/html": [
              "<div>\n",
              "<style scoped>\n",
              "    .dataframe tbody tr th:only-of-type {\n",
              "        vertical-align: middle;\n",
              "    }\n",
              "\n",
              "    .dataframe tbody tr th {\n",
              "        vertical-align: top;\n",
              "    }\n",
              "\n",
              "    .dataframe thead th {\n",
              "        text-align: right;\n",
              "    }\n",
              "</style>\n",
              "<table border=\"1\" class=\"dataframe\">\n",
              "  <thead>\n",
              "    <tr style=\"text-align: right;\">\n",
              "      <th></th>\n",
              "      <th>employers_cnt</th>\n",
              "    </tr>\n",
              "  </thead>\n",
              "  <tbody>\n",
              "    <tr>\n",
              "      <th>0</th>\n",
              "      <td>23501</td>\n",
              "    </tr>\n",
              "  </tbody>\n",
              "</table>\n",
              "</div>"
            ],
            "text/plain": [
              "   employers_cnt\n",
              "0          23501"
            ]
          },
          "execution_count": 29,
          "metadata": {},
          "output_type": "execute_result"
        }
      ],
      "source": [
        "df = pd.read_sql_query(query_3_2, connection)\n",
        "df"
      ]
    },
    {
      "cell_type": "markdown",
      "id": "a2bfff1f-c975-4bf6-84be-2185d79dcb76",
      "metadata": {
        "id": "a2bfff1f-c975-4bf6-84be-2185d79dcb76"
      },
      "source": [
        "3. Посчитате с помощью запроса количество регионов (таблица areas)."
      ]
    },
    {
      "cell_type": "code",
      "execution_count": 30,
      "id": "1m8QJwBYhey6",
      "metadata": {
        "id": "1m8QJwBYhey6"
      },
      "outputs": [],
      "source": [
        "# Считаем количество записей в таблице 'areas'\n",
        "\n",
        "query_3_3 = f'''\n",
        "SELECT\n",
        "     COUNT(*) areas_cnt\n",
        "FROM\n",
        "     areas\n",
        "'''"
      ]
    },
    {
      "cell_type": "code",
      "execution_count": 31,
      "id": "EZsn9tlfhe7f",
      "metadata": {
        "id": "EZsn9tlfhe7f"
      },
      "outputs": [
        {
          "data": {
            "text/html": [
              "<div>\n",
              "<style scoped>\n",
              "    .dataframe tbody tr th:only-of-type {\n",
              "        vertical-align: middle;\n",
              "    }\n",
              "\n",
              "    .dataframe tbody tr th {\n",
              "        vertical-align: top;\n",
              "    }\n",
              "\n",
              "    .dataframe thead th {\n",
              "        text-align: right;\n",
              "    }\n",
              "</style>\n",
              "<table border=\"1\" class=\"dataframe\">\n",
              "  <thead>\n",
              "    <tr style=\"text-align: right;\">\n",
              "      <th></th>\n",
              "      <th>areas_cnt</th>\n",
              "    </tr>\n",
              "  </thead>\n",
              "  <tbody>\n",
              "    <tr>\n",
              "      <th>0</th>\n",
              "      <td>1362</td>\n",
              "    </tr>\n",
              "  </tbody>\n",
              "</table>\n",
              "</div>"
            ],
            "text/plain": [
              "   areas_cnt\n",
              "0       1362"
            ]
          },
          "execution_count": 31,
          "metadata": {},
          "output_type": "execute_result"
        }
      ],
      "source": [
        "df = pd.read_sql_query(query_3_3, connection)\n",
        "df"
      ]
    },
    {
      "cell_type": "markdown",
      "id": "41bb59f3-53cc-4a67-a5bc-bedf573955e4",
      "metadata": {
        "id": "41bb59f3-53cc-4a67-a5bc-bedf573955e4"
      },
      "source": [
        "4. Посчитате с помощью запроса количество сфер деятельности в базе (таблица industries)."
      ]
    },
    {
      "cell_type": "code",
      "execution_count": 32,
      "id": "d286cf4c-707b-4cd2-9190-7ab3587d04a1",
      "metadata": {
        "id": "d286cf4c-707b-4cd2-9190-7ab3587d04a1"
      },
      "outputs": [],
      "source": [
        "# Считаем количество записей в таблице 'industries'\n",
        "\n",
        "query_3_4 = f'''\n",
        "SELECT\n",
        "     COUNT(*) industries_cnt\n",
        "FROM\n",
        "     industries\n",
        "'''"
      ]
    },
    {
      "cell_type": "code",
      "execution_count": 33,
      "id": "JYAaoZ4qhfzW",
      "metadata": {
        "id": "JYAaoZ4qhfzW"
      },
      "outputs": [
        {
          "data": {
            "text/html": [
              "<div>\n",
              "<style scoped>\n",
              "    .dataframe tbody tr th:only-of-type {\n",
              "        vertical-align: middle;\n",
              "    }\n",
              "\n",
              "    .dataframe tbody tr th {\n",
              "        vertical-align: top;\n",
              "    }\n",
              "\n",
              "    .dataframe thead th {\n",
              "        text-align: right;\n",
              "    }\n",
              "</style>\n",
              "<table border=\"1\" class=\"dataframe\">\n",
              "  <thead>\n",
              "    <tr style=\"text-align: right;\">\n",
              "      <th></th>\n",
              "      <th>industries_cnt</th>\n",
              "    </tr>\n",
              "  </thead>\n",
              "  <tbody>\n",
              "    <tr>\n",
              "      <th>0</th>\n",
              "      <td>294</td>\n",
              "    </tr>\n",
              "  </tbody>\n",
              "</table>\n",
              "</div>"
            ],
            "text/plain": [
              "   industries_cnt\n",
              "0             294"
            ]
          },
          "execution_count": 33,
          "metadata": {},
          "output_type": "execute_result"
        }
      ],
      "source": [
        "df = pd.read_sql_query(query_3_4, connection)\n",
        "df"
      ]
    },
    {
      "cell_type": "markdown",
      "id": "9a8a2181-6914-448b-85f1-38f5f18b8a93",
      "metadata": {
        "id": "9a8a2181-6914-448b-85f1-38f5f18b8a93"
      },
      "source": [
        "***"
      ]
    },
    {
      "cell_type": "markdown",
      "id": "be4e9bd3-a4db-4a20-82fb-6b02fc2957e0",
      "metadata": {
        "id": "be4e9bd3-a4db-4a20-82fb-6b02fc2957e0"
      },
      "source": [
        "Из предварительного анализа наших данных мы можем увидеть, что среди более чем `49 тысяч вакансий` у нас имеются свыше `23 тысяч работодателей` в `1362 регионах` с `294 сферами деятельности`.\n",
        "\n",
        "Такое количество вакансий, работодателей, уникальных регионов и разнообразных сфер деятельности работодателей говорит о том, что:\n",
        "\n",
        "* Рынок труда имеет `положительную тенденцию` по отношению к сфере *IT*, ввиду явной `заинтересованности самих работодателей` в увеличении штата *IT* сотрудников.\n",
        "\n",
        "Далее мы проведём детальный анализ вакансий, чтобы узнать следующие подробности:\n",
        "\n",
        "* В каких регионах вакансий много;\n",
        "\n",
        "* Как часто работодатели заполняют хотя бы одно из двух полей с зарплатой;\n",
        "\n",
        "* Разберём значения для нижней и верхней границы зарплатной вилки;\n",
        "\n",
        "* Какое количество вакансий имеется для каждого сочетания типа рабочего графика и типа трудоустройства, а так же требуемого опыта работы."
      ]
    },
    {
      "cell_type": "markdown",
      "id": "8d62a9f3-f64e-4fe7-bdac-c4dffa16155e",
      "metadata": {
        "id": "8d62a9f3-f64e-4fe7-bdac-c4dffa16155e"
      },
      "source": [
        "## Юнит 4. Детальный анализ вакансий"
      ]
    },
    {
      "cell_type": "markdown",
      "id": "93053d3d-b284-481a-9cf7-012d7014c0e0",
      "metadata": {
        "id": "93053d3d-b284-481a-9cf7-012d7014c0e0"
      },
      "source": [
        "1. Напишите запрос, который позволит узнать, сколько (cnt) вакансий в каждом регионе (area).\n",
        "Отсортируйте по количеству вакансий в порядке убывания."
      ]
    },
    {
      "cell_type": "code",
      "execution_count": 34,
      "id": "3f069da6-fdc9-4ae7-b514-fafe2675efd3",
      "metadata": {
        "id": "3f069da6-fdc9-4ae7-b514-fafe2675efd3"
      },
      "outputs": [],
      "source": [
        "# Считаем количество вакансий для каждого региона, присоединив к таблице 'areas' таблицу 'vacancies'\n",
        "# Группируем данные по названию региона, а также сортируем данные по количеству вакансий \n",
        "# Выводим ТОП-5 регионов по количеству вакансий в нём\n",
        "\n",
        "query_4_1 = f'''\n",
        "SELECT\n",
        "     a.name area_name,\n",
        "     COUNT(*) vacancies_cnt\n",
        "FROM\n",
        "     areas a\n",
        "JOIN vacancies v ON v.area_id = a.id\n",
        "GROUP BY 1\n",
        "ORDER BY 2 DESC\n",
        "LIMIT 5\n",
        "'''"
      ]
    },
    {
      "cell_type": "code",
      "execution_count": 35,
      "id": "P7QL86hrjhRJ",
      "metadata": {
        "id": "P7QL86hrjhRJ"
      },
      "outputs": [
        {
          "data": {
            "text/html": [
              "<div>\n",
              "<style scoped>\n",
              "    .dataframe tbody tr th:only-of-type {\n",
              "        vertical-align: middle;\n",
              "    }\n",
              "\n",
              "    .dataframe tbody tr th {\n",
              "        vertical-align: top;\n",
              "    }\n",
              "\n",
              "    .dataframe thead th {\n",
              "        text-align: right;\n",
              "    }\n",
              "</style>\n",
              "<table border=\"1\" class=\"dataframe\">\n",
              "  <thead>\n",
              "    <tr style=\"text-align: right;\">\n",
              "      <th></th>\n",
              "      <th>area_name</th>\n",
              "      <th>vacancies_cnt</th>\n",
              "    </tr>\n",
              "  </thead>\n",
              "  <tbody>\n",
              "    <tr>\n",
              "      <th>0</th>\n",
              "      <td>Москва</td>\n",
              "      <td>5333</td>\n",
              "    </tr>\n",
              "    <tr>\n",
              "      <th>1</th>\n",
              "      <td>Санкт-Петербург</td>\n",
              "      <td>2851</td>\n",
              "    </tr>\n",
              "    <tr>\n",
              "      <th>2</th>\n",
              "      <td>Минск</td>\n",
              "      <td>2112</td>\n",
              "    </tr>\n",
              "    <tr>\n",
              "      <th>3</th>\n",
              "      <td>Новосибирск</td>\n",
              "      <td>2006</td>\n",
              "    </tr>\n",
              "    <tr>\n",
              "      <th>4</th>\n",
              "      <td>Алматы</td>\n",
              "      <td>1892</td>\n",
              "    </tr>\n",
              "  </tbody>\n",
              "</table>\n",
              "</div>"
            ],
            "text/plain": [
              "         area_name  vacancies_cnt\n",
              "0           Москва           5333\n",
              "1  Санкт-Петербург           2851\n",
              "2            Минск           2112\n",
              "3      Новосибирск           2006\n",
              "4           Алматы           1892"
            ]
          },
          "execution_count": 35,
          "metadata": {},
          "output_type": "execute_result"
        }
      ],
      "source": [
        "df = pd.read_sql_query(query_4_1, connection)\n",
        "df"
      ]
    },
    {
      "cell_type": "markdown",
      "id": "4266f0b6-1646-492a-88b4-2f6a46502135",
      "metadata": {
        "id": "4266f0b6-1646-492a-88b4-2f6a46502135"
      },
      "source": [
        "2. Напишите запрос, чтобы определить у какого количества вакансий заполнено хотя бы одно из двух полей с зарплатой."
      ]
    },
    {
      "cell_type": "code",
      "execution_count": 36,
      "id": "0c44b350-72eb-4d65-8b54-a1fc449ba9fd",
      "metadata": {
        "id": "0c44b350-72eb-4d65-8b54-a1fc449ba9fd"
      },
      "outputs": [],
      "source": [
        "# Считаем количество записей в таблице 'vacancies', где заполнено хотя бы одно из двух полей с зарплатой\n",
        "\n",
        "query_4_2 = f'''\n",
        "SELECT\n",
        "     COUNT(*) vacancies_cnt\n",
        "FROM\n",
        "     vacancies\n",
        "WHERE salary_from IS NOT NULL OR salary_to IS NOT NULL\n",
        "'''"
      ]
    },
    {
      "cell_type": "code",
      "execution_count": 37,
      "id": "rhvwaMDkoWTi",
      "metadata": {
        "id": "rhvwaMDkoWTi"
      },
      "outputs": [
        {
          "data": {
            "text/html": [
              "<div>\n",
              "<style scoped>\n",
              "    .dataframe tbody tr th:only-of-type {\n",
              "        vertical-align: middle;\n",
              "    }\n",
              "\n",
              "    .dataframe tbody tr th {\n",
              "        vertical-align: top;\n",
              "    }\n",
              "\n",
              "    .dataframe thead th {\n",
              "        text-align: right;\n",
              "    }\n",
              "</style>\n",
              "<table border=\"1\" class=\"dataframe\">\n",
              "  <thead>\n",
              "    <tr style=\"text-align: right;\">\n",
              "      <th></th>\n",
              "      <th>vacancies_cnt</th>\n",
              "    </tr>\n",
              "  </thead>\n",
              "  <tbody>\n",
              "    <tr>\n",
              "      <th>0</th>\n",
              "      <td>24073</td>\n",
              "    </tr>\n",
              "  </tbody>\n",
              "</table>\n",
              "</div>"
            ],
            "text/plain": [
              "   vacancies_cnt\n",
              "0          24073"
            ]
          },
          "execution_count": 37,
          "metadata": {},
          "output_type": "execute_result"
        }
      ],
      "source": [
        "df = pd.read_sql_query(query_4_2, connection)\n",
        "df"
      ]
    },
    {
      "cell_type": "markdown",
      "id": "635c4d5d-f323-4c66-b428-50a088120aa0",
      "metadata": {
        "id": "635c4d5d-f323-4c66-b428-50a088120aa0"
      },
      "source": [
        "3. Найдите средние значения для нижней и верхней границы зарплатной вилки. Округлите значения до целого."
      ]
    },
    {
      "cell_type": "code",
      "execution_count": 38,
      "id": "603cdbe4-0ec3-4106-8eaf-c73fcdd29165",
      "metadata": {
        "id": "603cdbe4-0ec3-4106-8eaf-c73fcdd29165"
      },
      "outputs": [],
      "source": [
        "# Считаем средние значения для нижней и верхней границы ЗП в таблице 'vacancies'\n",
        "# Получившиеся значения округляем до целого числа\n",
        "\n",
        "query_4_3 = f'''\n",
        "SELECT\n",
        "     ROUND(AVG(salary_from)) avg_salary_from,\n",
        "     ROUND(AVG(salary_to)) avg_salary_to\n",
        "FROM\n",
        "     vacancies\n",
        "'''"
      ]
    },
    {
      "cell_type": "code",
      "execution_count": 39,
      "id": "pswpAb66ovZZ",
      "metadata": {
        "id": "pswpAb66ovZZ"
      },
      "outputs": [
        {
          "data": {
            "text/html": [
              "<div>\n",
              "<style scoped>\n",
              "    .dataframe tbody tr th:only-of-type {\n",
              "        vertical-align: middle;\n",
              "    }\n",
              "\n",
              "    .dataframe tbody tr th {\n",
              "        vertical-align: top;\n",
              "    }\n",
              "\n",
              "    .dataframe thead th {\n",
              "        text-align: right;\n",
              "    }\n",
              "</style>\n",
              "<table border=\"1\" class=\"dataframe\">\n",
              "  <thead>\n",
              "    <tr style=\"text-align: right;\">\n",
              "      <th></th>\n",
              "      <th>avg_salary_from</th>\n",
              "      <th>avg_salary_to</th>\n",
              "    </tr>\n",
              "  </thead>\n",
              "  <tbody>\n",
              "    <tr>\n",
              "      <th>0</th>\n",
              "      <td>71065.0</td>\n",
              "      <td>110537.0</td>\n",
              "    </tr>\n",
              "  </tbody>\n",
              "</table>\n",
              "</div>"
            ],
            "text/plain": [
              "   avg_salary_from  avg_salary_to\n",
              "0          71065.0       110537.0"
            ]
          },
          "execution_count": 39,
          "metadata": {},
          "output_type": "execute_result"
        }
      ],
      "source": [
        "df = pd.read_sql_query(query_4_3, connection)\n",
        "df"
      ]
    },
    {
      "cell_type": "markdown",
      "id": "f3fdaec9-5fd3-4260-9cf5-1d7406b628a5",
      "metadata": {
        "id": "f3fdaec9-5fd3-4260-9cf5-1d7406b628a5"
      },
      "source": [
        "4. Напишите запрос, который выведет количество вакансий для каждого сочетания типа рабочего графика (schedule) и типа трудоустройства (employment), используемого в вакансиях. Результат отсортируйте по убыванию количества."
      ]
    },
    {
      "cell_type": "code",
      "execution_count": 40,
      "id": "1ea710ec-871b-431e-9462-c7d0fd87011b",
      "metadata": {
        "id": "1ea710ec-871b-431e-9462-c7d0fd87011b"
      },
      "outputs": [],
      "source": [
        "# Выводим сочетания типа рабочего графика и типа трудоустройства, а также количество вакансий для каждой связки\n",
        "# Группируем данные по типу рабочего графика и типу трудоустройства\n",
        "# Сортируем данные по количеству вакансий для связки\n",
        "\n",
        "query_4_4 = f'''\n",
        "SELECT\n",
        "     schedule schedule_type,\n",
        "     employment employment_type,\n",
        "     COUNT(*) vacancies_cnt\n",
        "FROM\n",
        "     vacancies\n",
        "GROUP BY 1, 2\n",
        "ORDER BY 3 DESC\n",
        "'''"
      ]
    },
    {
      "cell_type": "code",
      "execution_count": 41,
      "id": "lGUVqavdo4JQ",
      "metadata": {
        "id": "lGUVqavdo4JQ"
      },
      "outputs": [
        {
          "data": {
            "text/html": [
              "<div>\n",
              "<style scoped>\n",
              "    .dataframe tbody tr th:only-of-type {\n",
              "        vertical-align: middle;\n",
              "    }\n",
              "\n",
              "    .dataframe tbody tr th {\n",
              "        vertical-align: top;\n",
              "    }\n",
              "\n",
              "    .dataframe thead th {\n",
              "        text-align: right;\n",
              "    }\n",
              "</style>\n",
              "<table border=\"1\" class=\"dataframe\">\n",
              "  <thead>\n",
              "    <tr style=\"text-align: right;\">\n",
              "      <th></th>\n",
              "      <th>schedule_type</th>\n",
              "      <th>employment_type</th>\n",
              "      <th>vacancies_cnt</th>\n",
              "    </tr>\n",
              "  </thead>\n",
              "  <tbody>\n",
              "    <tr>\n",
              "      <th>0</th>\n",
              "      <td>Полный день</td>\n",
              "      <td>Полная занятость</td>\n",
              "      <td>35367</td>\n",
              "    </tr>\n",
              "    <tr>\n",
              "      <th>1</th>\n",
              "      <td>Удаленная работа</td>\n",
              "      <td>Полная занятость</td>\n",
              "      <td>7802</td>\n",
              "    </tr>\n",
              "    <tr>\n",
              "      <th>2</th>\n",
              "      <td>Гибкий график</td>\n",
              "      <td>Полная занятость</td>\n",
              "      <td>1593</td>\n",
              "    </tr>\n",
              "    <tr>\n",
              "      <th>3</th>\n",
              "      <td>Удаленная работа</td>\n",
              "      <td>Частичная занятость</td>\n",
              "      <td>1312</td>\n",
              "    </tr>\n",
              "    <tr>\n",
              "      <th>4</th>\n",
              "      <td>Сменный график</td>\n",
              "      <td>Полная занятость</td>\n",
              "      <td>940</td>\n",
              "    </tr>\n",
              "    <tr>\n",
              "      <th>5</th>\n",
              "      <td>Полный день</td>\n",
              "      <td>Стажировка</td>\n",
              "      <td>569</td>\n",
              "    </tr>\n",
              "    <tr>\n",
              "      <th>6</th>\n",
              "      <td>Вахтовый метод</td>\n",
              "      <td>Полная занятость</td>\n",
              "      <td>367</td>\n",
              "    </tr>\n",
              "    <tr>\n",
              "      <th>7</th>\n",
              "      <td>Полный день</td>\n",
              "      <td>Частичная занятость</td>\n",
              "      <td>347</td>\n",
              "    </tr>\n",
              "    <tr>\n",
              "      <th>8</th>\n",
              "      <td>Гибкий график</td>\n",
              "      <td>Частичная занятость</td>\n",
              "      <td>312</td>\n",
              "    </tr>\n",
              "    <tr>\n",
              "      <th>9</th>\n",
              "      <td>Полный день</td>\n",
              "      <td>Проектная работа</td>\n",
              "      <td>141</td>\n",
              "    </tr>\n",
              "    <tr>\n",
              "      <th>10</th>\n",
              "      <td>Удаленная работа</td>\n",
              "      <td>Проектная работа</td>\n",
              "      <td>133</td>\n",
              "    </tr>\n",
              "    <tr>\n",
              "      <th>11</th>\n",
              "      <td>Гибкий график</td>\n",
              "      <td>Стажировка</td>\n",
              "      <td>116</td>\n",
              "    </tr>\n",
              "    <tr>\n",
              "      <th>12</th>\n",
              "      <td>Сменный график</td>\n",
              "      <td>Частичная занятость</td>\n",
              "      <td>101</td>\n",
              "    </tr>\n",
              "    <tr>\n",
              "      <th>13</th>\n",
              "      <td>Удаленная работа</td>\n",
              "      <td>Стажировка</td>\n",
              "      <td>64</td>\n",
              "    </tr>\n",
              "    <tr>\n",
              "      <th>14</th>\n",
              "      <td>Гибкий график</td>\n",
              "      <td>Проектная работа</td>\n",
              "      <td>18</td>\n",
              "    </tr>\n",
              "    <tr>\n",
              "      <th>15</th>\n",
              "      <td>Сменный график</td>\n",
              "      <td>Стажировка</td>\n",
              "      <td>12</td>\n",
              "    </tr>\n",
              "    <tr>\n",
              "      <th>16</th>\n",
              "      <td>Вахтовый метод</td>\n",
              "      <td>Проектная работа</td>\n",
              "      <td>2</td>\n",
              "    </tr>\n",
              "    <tr>\n",
              "      <th>17</th>\n",
              "      <td>Сменный график</td>\n",
              "      <td>Проектная работа</td>\n",
              "      <td>1</td>\n",
              "    </tr>\n",
              "  </tbody>\n",
              "</table>\n",
              "</div>"
            ],
            "text/plain": [
              "       schedule_type      employment_type  vacancies_cnt\n",
              "0        Полный день     Полная занятость          35367\n",
              "1   Удаленная работа     Полная занятость           7802\n",
              "2      Гибкий график     Полная занятость           1593\n",
              "3   Удаленная работа  Частичная занятость           1312\n",
              "4     Сменный график     Полная занятость            940\n",
              "5        Полный день           Стажировка            569\n",
              "6     Вахтовый метод     Полная занятость            367\n",
              "7        Полный день  Частичная занятость            347\n",
              "8      Гибкий график  Частичная занятость            312\n",
              "9        Полный день     Проектная работа            141\n",
              "10  Удаленная работа     Проектная работа            133\n",
              "11     Гибкий график           Стажировка            116\n",
              "12    Сменный график  Частичная занятость            101\n",
              "13  Удаленная работа           Стажировка             64\n",
              "14     Гибкий график     Проектная работа             18\n",
              "15    Сменный график           Стажировка             12\n",
              "16    Вахтовый метод     Проектная работа              2\n",
              "17    Сменный график     Проектная работа              1"
            ]
          },
          "execution_count": 41,
          "metadata": {},
          "output_type": "execute_result"
        }
      ],
      "source": [
        "df = pd.read_sql_query(query_4_4, connection)\n",
        "df"
      ]
    },
    {
      "cell_type": "markdown",
      "id": "0136ffee-0ead-4a6b-b608-61d1c753a438",
      "metadata": {
        "id": "0136ffee-0ead-4a6b-b608-61d1c753a438"
      },
      "source": [
        "5. Напишите запрос, выводящий значения поля Требуемый опыт работы (experience) в порядке возрастания количества вакансий, в которых указан данный вариант опыта. "
      ]
    },
    {
      "cell_type": "code",
      "execution_count": 42,
      "id": "5b3a8e79-f7ab-4008-b767-12aea3a205ea",
      "metadata": {
        "id": "5b3a8e79-f7ab-4008-b767-12aea3a205ea"
      },
      "outputs": [],
      "source": [
        "# Выводим значения опыта работы и количество вакансий для каждого из них\n",
        "# Группируем данные по опыту работы и сортируем по количеству вакансий\n",
        "\n",
        "query_4_5 = f'''\n",
        "SELECT\n",
        "     experience,\n",
        "     COUNT(*) vacancies_cnt\n",
        "FROM\n",
        "     vacancies\n",
        "GROUP BY 1\n",
        "ORDER BY 2\n",
        "'''"
      ]
    },
    {
      "cell_type": "code",
      "execution_count": 43,
      "id": "3Is64Y-hpDpq",
      "metadata": {
        "id": "3Is64Y-hpDpq"
      },
      "outputs": [
        {
          "data": {
            "text/html": [
              "<div>\n",
              "<style scoped>\n",
              "    .dataframe tbody tr th:only-of-type {\n",
              "        vertical-align: middle;\n",
              "    }\n",
              "\n",
              "    .dataframe tbody tr th {\n",
              "        vertical-align: top;\n",
              "    }\n",
              "\n",
              "    .dataframe thead th {\n",
              "        text-align: right;\n",
              "    }\n",
              "</style>\n",
              "<table border=\"1\" class=\"dataframe\">\n",
              "  <thead>\n",
              "    <tr style=\"text-align: right;\">\n",
              "      <th></th>\n",
              "      <th>experience</th>\n",
              "      <th>vacancies_cnt</th>\n",
              "    </tr>\n",
              "  </thead>\n",
              "  <tbody>\n",
              "    <tr>\n",
              "      <th>0</th>\n",
              "      <td>Более 6 лет</td>\n",
              "      <td>1337</td>\n",
              "    </tr>\n",
              "    <tr>\n",
              "      <th>1</th>\n",
              "      <td>Нет опыта</td>\n",
              "      <td>7197</td>\n",
              "    </tr>\n",
              "    <tr>\n",
              "      <th>2</th>\n",
              "      <td>От 3 до 6 лет</td>\n",
              "      <td>14511</td>\n",
              "    </tr>\n",
              "    <tr>\n",
              "      <th>3</th>\n",
              "      <td>От 1 года до 3 лет</td>\n",
              "      <td>26152</td>\n",
              "    </tr>\n",
              "  </tbody>\n",
              "</table>\n",
              "</div>"
            ],
            "text/plain": [
              "           experience  vacancies_cnt\n",
              "0         Более 6 лет           1337\n",
              "1           Нет опыта           7197\n",
              "2       От 3 до 6 лет          14511\n",
              "3  От 1 года до 3 лет          26152"
            ]
          },
          "execution_count": 43,
          "metadata": {},
          "output_type": "execute_result"
        }
      ],
      "source": [
        "df = pd.read_sql_query(query_4_5, connection)\n",
        "df"
      ]
    },
    {
      "cell_type": "markdown",
      "id": "oq2b7n1QpIka",
      "metadata": {
        "id": "oq2b7n1QpIka"
      },
      "source": [
        "***"
      ]
    },
    {
      "cell_type": "markdown",
      "id": "e91f87ed-e25c-4f96-9f92-b642e8c0b4fa",
      "metadata": {
        "id": "e91f87ed-e25c-4f96-9f92-b642e8c0b4fa"
      },
      "source": [
        "Подводя итог детальному анализу вакансий, можно выделить следующие моменты:\n",
        "\n",
        "1. `Пятёрку лидеров` по количеству вакансий занимают следующие города:\n",
        "\n",
        "   * Москва — Санкт-Петербург — Минск — Новосибирск — Алматы\n",
        "  \n",
        "    Разница между столицей (`Москва`) и остальными регионами обуславливается количеством населения (более чем в 2 раза по сравнению с Санкт-Петербургом), что в свою очередь увеличивает количество потенциальных работодателей и количество вакансий в регионе;\n",
        "\n",
        "2. `У менее, чем половины` предлагаемых вакансий не указана верхняя и нижняя граница заработной платы. Такое решение работодателей во многом зависит от уровня кандидата — если опытного кандидата в процессе переговоров что-то не устроит, то придётся сделать предложение человеку с меньшим опытом. Разумеется, увидев вилку зарплат, он будет рассчитывать на максимум, и получив предложение с гораздо меньшим окладом, разочаруется и тоже может отказаться;\n",
        "\n",
        "3. `Средние значения` для нижней и верхней границы зарплатной вилки в размере 71065 и 110537 тысяч рублей соответственно характеризуются спросом на квалифицированных специалистов, что становятся всё более ценными. Следовательно компании, готовые конкурировать за лучших сотрудников готовы предлагать и более высокие границы зарплатной вилки, чтобы привлечь и удержать таланты;\n",
        "\n",
        "4. Помимо очевидного первенства сочетания `Полный день — Полная занятость` (более 70%) в типах рабочего графика и трудоустройства, стоит также отметить и связку `Удалённая работа — Полная занятость`, что находится на втором месте. Её популярность по сравнению с остальными связками характеризуется возможностью осуществлять профессиональную деятельность сотрудника из любого уголка мира. Ведь сотрудник может работать где угодно, если это место предполагает наличие стабильного интернета и электросети. А значит и вакансия, предлагаемая работодателем располагает к выполнению задач удалённо, без необходимости в постоянном посещении офиса;\n",
        "\n",
        "5. Среди `Опыта работы` можно выделить заинтересованность работодателей в кандидатах с опытом работы `От 1 года до 3 лет`. Такой интерес можем быть вызван следующими факторами:\n",
        "\n",
        "   1. Переобучить чужую `«звезду»` может быть долго, дорого и некогда, в отличие от новичка которого всегда можно с лёгкостью переобучить или доучить, а деньги, которые компания вложила в обучение для `«выращивания»` собственных\n",
        "  кадров, окупятся с большей вероятностью;\n",
        "\n",
        "   2. Сотрудники с меньшим опытом ожидаемо задают множество вопросов. Они не знают всех тонкостей работы, с энтузиазмом пробуют новое и ошибаются чаще других. Правильный новичок жаждет знаний и ищет любые способы поскорее повысить квалификацию, что также является плюсом как для самого сотрудника, так и работодателя.\n",
        "\n",
        "Теперь перейдём к анализу самих нанимателей. Посмотрим на лидеров по количеству вакансий, регионы в которых они публикуют свои предложения и их сферы деятельности."
      ]
    },
    {
      "cell_type": "markdown",
      "id": "7ea20ab6-04a7-40a0-adec-443a0e5a42c3",
      "metadata": {
        "id": "7ea20ab6-04a7-40a0-adec-443a0e5a42c3"
      },
      "source": [
        "## Юнит 5. Анализ работодателей"
      ]
    },
    {
      "cell_type": "markdown",
      "id": "968aed80-74ef-4ffb-b5bf-c65b84e9caea",
      "metadata": {
        "id": "968aed80-74ef-4ffb-b5bf-c65b84e9caea"
      },
      "source": [
        "1. Напишите запрос, который позволит узнать, какие работодатели находятся на первом и пятом месте по количеству вакансий."
      ]
    },
    {
      "cell_type": "code",
      "execution_count": 44,
      "id": "f2d62796-d400-4ec1-a675-88112739a50e",
      "metadata": {
        "id": "f2d62796-d400-4ec1-a675-88112739a50e"
      },
      "outputs": [],
      "source": [
        "# Выводим работодателей, которые находятся на первом и пятом месте по количеству вакансий\n",
        "# К таблице 'employers' присоединяем таблицу 'vacancies' \n",
        "# Группируем вакансии по названию работодателя и сортируем по количеству вакансий\n",
        "# Лимит для вывода устанавливаем согласно необходимым местам в рейтинге  \n",
        "\n",
        "query_5_1 = f'''\n",
        "(SELECT\n",
        "     e.name employer_name\n",
        "FROM\n",
        "     employers e\n",
        "JOIN vacancies v on v.employer_id = e.id\n",
        "GROUP BY 1\n",
        "ORDER BY COUNT(*) DESC\n",
        "LIMIT 1)\n",
        "UNION ALL\n",
        "(SELECT\n",
        "     e.name employer_name\n",
        "FROM\n",
        "     employers e\n",
        "JOIN vacancies v on v.employer_id = e.id\n",
        "GROUP BY 1\n",
        "ORDER BY COUNT(*) DESC\n",
        "LIMIT 1 OFFSET 4)\n",
        "'''"
      ]
    },
    {
      "cell_type": "code",
      "execution_count": 45,
      "id": "64tOMkAxqkQk",
      "metadata": {
        "id": "64tOMkAxqkQk"
      },
      "outputs": [
        {
          "data": {
            "text/html": [
              "<div>\n",
              "<style scoped>\n",
              "    .dataframe tbody tr th:only-of-type {\n",
              "        vertical-align: middle;\n",
              "    }\n",
              "\n",
              "    .dataframe tbody tr th {\n",
              "        vertical-align: top;\n",
              "    }\n",
              "\n",
              "    .dataframe thead th {\n",
              "        text-align: right;\n",
              "    }\n",
              "</style>\n",
              "<table border=\"1\" class=\"dataframe\">\n",
              "  <thead>\n",
              "    <tr style=\"text-align: right;\">\n",
              "      <th></th>\n",
              "      <th>employer_name</th>\n",
              "    </tr>\n",
              "  </thead>\n",
              "  <tbody>\n",
              "    <tr>\n",
              "      <th>0</th>\n",
              "      <td>Яндекс</td>\n",
              "    </tr>\n",
              "    <tr>\n",
              "      <th>1</th>\n",
              "      <td>Газпром нефть</td>\n",
              "    </tr>\n",
              "  </tbody>\n",
              "</table>\n",
              "</div>"
            ],
            "text/plain": [
              "   employer_name\n",
              "0         Яндекс\n",
              "1  Газпром нефть"
            ]
          },
          "execution_count": 45,
          "metadata": {},
          "output_type": "execute_result"
        }
      ],
      "source": [
        "df = pd.read_sql_query(query_5_1, connection)\n",
        "df"
      ]
    },
    {
      "cell_type": "markdown",
      "id": "68377cfc-b378-43dc-ab7d-1195abf2c515",
      "metadata": {
        "id": "68377cfc-b378-43dc-ab7d-1195abf2c515"
      },
      "source": [
        "2. Напишите запрос, который для каждого региона выведет количество работодателей и вакансий в нём.\n",
        "Среди регионов, в которых нет вакансий, найдите тот, в котором наибольшее количество работодателей.\n"
      ]
    },
    {
      "cell_type": "code",
      "execution_count": 46,
      "id": "dd7df27a-e3e8-412e-a21a-5d389b71e891",
      "metadata": {
        "id": "dd7df27a-e3e8-412e-a21a-5d389b71e891"
      },
      "outputs": [],
      "source": [
        "# Выводим название региона, количество работодателей и вакансий в нём\n",
        "# Для этого к таблице 'areas' присоединяем таблицы 'employers' и 'vacancies'\n",
        "# Оставляем только те регионы, где нет вакансий\n",
        "# Для оставшихся записей производим группировку по ID региона и сортировку по количеству работодателей\n",
        "# Лимит для вывода устанавливаем согласно необходимым требованиям   \n",
        "\n",
        "query_5_2 = f'''\n",
        "SELECT\n",
        "     a.name region_name,\n",
        "     COUNT(DISTINCT e.id) employers_cnt,\n",
        "     COUNT(DISTINCT v.id) vacancies_cnt\n",
        "FROM\n",
        "     areas a\n",
        "LEFT JOIN employers e on e.area = a.id\n",
        "LEFT JOIN vacancies v on v.area_id = a.id\n",
        "WHERE v.id IS NULL\n",
        "GROUP BY a.id\n",
        "ORDER BY 2 DESC\n",
        "LIMIT 1\n",
        "'''"
      ]
    },
    {
      "cell_type": "code",
      "execution_count": 47,
      "id": "x1ikWbydrbf6",
      "metadata": {
        "id": "x1ikWbydrbf6"
      },
      "outputs": [
        {
          "data": {
            "text/html": [
              "<div>\n",
              "<style scoped>\n",
              "    .dataframe tbody tr th:only-of-type {\n",
              "        vertical-align: middle;\n",
              "    }\n",
              "\n",
              "    .dataframe tbody tr th {\n",
              "        vertical-align: top;\n",
              "    }\n",
              "\n",
              "    .dataframe thead th {\n",
              "        text-align: right;\n",
              "    }\n",
              "</style>\n",
              "<table border=\"1\" class=\"dataframe\">\n",
              "  <thead>\n",
              "    <tr style=\"text-align: right;\">\n",
              "      <th></th>\n",
              "      <th>region_name</th>\n",
              "      <th>employers_cnt</th>\n",
              "      <th>vacancies_cnt</th>\n",
              "    </tr>\n",
              "  </thead>\n",
              "  <tbody>\n",
              "    <tr>\n",
              "      <th>0</th>\n",
              "      <td>Россия</td>\n",
              "      <td>410</td>\n",
              "      <td>0</td>\n",
              "    </tr>\n",
              "  </tbody>\n",
              "</table>\n",
              "</div>"
            ],
            "text/plain": [
              "  region_name  employers_cnt  vacancies_cnt\n",
              "0      Россия            410              0"
            ]
          },
          "execution_count": 47,
          "metadata": {},
          "output_type": "execute_result"
        }
      ],
      "source": [
        "df = pd.read_sql_query(query_5_2, connection)\n",
        "df"
      ]
    },
    {
      "cell_type": "markdown",
      "id": "f2fe0acb-ab1a-4e15-9326-2560e22d73c1",
      "metadata": {
        "id": "f2fe0acb-ab1a-4e15-9326-2560e22d73c1"
      },
      "source": [
        "3. Для каждого работодателя посчитайте количество регионов, в которых он публикует свои вакансии. Отсортируйте результат по убыванию количества.\n"
      ]
    },
    {
      "cell_type": "code",
      "execution_count": 48,
      "id": "6271f8ad-bd2e-4196-ae4a-5b39c4c1010e",
      "metadata": {
        "id": "6271f8ad-bd2e-4196-ae4a-5b39c4c1010e"
      },
      "outputs": [],
      "source": [
        "# Выводим название компании и количество регионов, в которых она публикует свои вакансии\n",
        "# Для этого присоединяем к таблице 'vacancies' таблицу 'employers'\n",
        "# Данные группируем по названию компании и сортируем по количеству регионов\n",
        "\n",
        "query_5_3 = f'''\n",
        "SELECT\n",
        "     e.name employer_name,\n",
        "     COUNT(DISTINCT v.area_id)\n",
        "FROM\n",
        "     vacancies v\n",
        "JOIN employers e ON e.id = v.employer_id\n",
        "GROUP BY 1\n",
        "ORDER BY 2 DESC\n",
        "'''"
      ]
    },
    {
      "cell_type": "code",
      "execution_count": 49,
      "id": "1EIvX3HasH4F",
      "metadata": {
        "id": "1EIvX3HasH4F"
      },
      "outputs": [
        {
          "data": {
            "text/html": [
              "<div>\n",
              "<style scoped>\n",
              "    .dataframe tbody tr th:only-of-type {\n",
              "        vertical-align: middle;\n",
              "    }\n",
              "\n",
              "    .dataframe tbody tr th {\n",
              "        vertical-align: top;\n",
              "    }\n",
              "\n",
              "    .dataframe thead th {\n",
              "        text-align: right;\n",
              "    }\n",
              "</style>\n",
              "<table border=\"1\" class=\"dataframe\">\n",
              "  <thead>\n",
              "    <tr style=\"text-align: right;\">\n",
              "      <th></th>\n",
              "      <th>employer_name</th>\n",
              "      <th>count</th>\n",
              "    </tr>\n",
              "  </thead>\n",
              "  <tbody>\n",
              "    <tr>\n",
              "      <th>0</th>\n",
              "      <td>Яндекс</td>\n",
              "      <td>181</td>\n",
              "    </tr>\n",
              "    <tr>\n",
              "      <th>1</th>\n",
              "      <td>Ростелеком</td>\n",
              "      <td>152</td>\n",
              "    </tr>\n",
              "    <tr>\n",
              "      <th>2</th>\n",
              "      <td>Спецремонт</td>\n",
              "      <td>116</td>\n",
              "    </tr>\n",
              "    <tr>\n",
              "      <th>3</th>\n",
              "      <td>Поляков Денис Иванович</td>\n",
              "      <td>88</td>\n",
              "    </tr>\n",
              "    <tr>\n",
              "      <th>4</th>\n",
              "      <td>ООО ЕФИН</td>\n",
              "      <td>71</td>\n",
              "    </tr>\n",
              "    <tr>\n",
              "      <th>...</th>\n",
              "      <td>...</td>\n",
              "      <td>...</td>\n",
              "    </tr>\n",
              "    <tr>\n",
              "      <th>14761</th>\n",
              "      <td>UniSol</td>\n",
              "      <td>1</td>\n",
              "    </tr>\n",
              "    <tr>\n",
              "      <th>14762</th>\n",
              "      <td>UNISTORY LLC</td>\n",
              "      <td>1</td>\n",
              "    </tr>\n",
              "    <tr>\n",
              "      <th>14763</th>\n",
              "      <td>UNIT6</td>\n",
              "      <td>1</td>\n",
              "    </tr>\n",
              "    <tr>\n",
              "      <th>14764</th>\n",
              "      <td>United Distribution</td>\n",
              "      <td>1</td>\n",
              "    </tr>\n",
              "    <tr>\n",
              "      <th>14765</th>\n",
              "      <td>UNITEL LLC</td>\n",
              "      <td>1</td>\n",
              "    </tr>\n",
              "  </tbody>\n",
              "</table>\n",
              "<p>14766 rows × 2 columns</p>\n",
              "</div>"
            ],
            "text/plain": [
              "                employer_name  count\n",
              "0                      Яндекс    181\n",
              "1                  Ростелеком    152\n",
              "2                  Спецремонт    116\n",
              "3      Поляков Денис Иванович     88\n",
              "4                   ООО ЕФИН      71\n",
              "...                       ...    ...\n",
              "14761                  UniSol      1\n",
              "14762            UNISTORY LLC      1\n",
              "14763                   UNIT6      1\n",
              "14764     United Distribution      1\n",
              "14765              UNITEL LLC      1\n",
              "\n",
              "[14766 rows x 2 columns]"
            ]
          },
          "execution_count": 49,
          "metadata": {},
          "output_type": "execute_result"
        }
      ],
      "source": [
        "df = pd.read_sql_query(query_5_3, connection)\n",
        "df"
      ]
    },
    {
      "cell_type": "markdown",
      "id": "eab2206d-d95b-468b-8e5f-34381abf0ce7",
      "metadata": {
        "id": "eab2206d-d95b-468b-8e5f-34381abf0ce7"
      },
      "source": [
        "4. Напишите запрос для подсчёта количества работодателей, у которых не указана сфера деятельности. "
      ]
    },
    {
      "cell_type": "code",
      "execution_count": 50,
      "id": "80defb23-bfb1-4a18-8be6-bf36aa7165d5",
      "metadata": {
        "id": "80defb23-bfb1-4a18-8be6-bf36aa7165d5"
      },
      "outputs": [],
      "source": [
        "# Считаем количество записей получившихся после присоединения таблиц 'employers' и 'employers_industries' по необходимому условию\n",
        "\n",
        "query_5_4 = f'''\n",
        "SELECT\n",
        "     COUNT(*) employers_cnt\n",
        "FROM\n",
        "     employers e\n",
        "LEFT JOIN employers_industries ei on ei.employer_id = e.id\n",
        "WHERE ei.industry_id is NULL\n",
        "'''"
      ]
    },
    {
      "cell_type": "code",
      "execution_count": 51,
      "id": "Dp_yCx6ysQSu",
      "metadata": {
        "id": "Dp_yCx6ysQSu"
      },
      "outputs": [
        {
          "data": {
            "text/html": [
              "<div>\n",
              "<style scoped>\n",
              "    .dataframe tbody tr th:only-of-type {\n",
              "        vertical-align: middle;\n",
              "    }\n",
              "\n",
              "    .dataframe tbody tr th {\n",
              "        vertical-align: top;\n",
              "    }\n",
              "\n",
              "    .dataframe thead th {\n",
              "        text-align: right;\n",
              "    }\n",
              "</style>\n",
              "<table border=\"1\" class=\"dataframe\">\n",
              "  <thead>\n",
              "    <tr style=\"text-align: right;\">\n",
              "      <th></th>\n",
              "      <th>employers_cnt</th>\n",
              "    </tr>\n",
              "  </thead>\n",
              "  <tbody>\n",
              "    <tr>\n",
              "      <th>0</th>\n",
              "      <td>8419</td>\n",
              "    </tr>\n",
              "  </tbody>\n",
              "</table>\n",
              "</div>"
            ],
            "text/plain": [
              "   employers_cnt\n",
              "0           8419"
            ]
          },
          "execution_count": 51,
          "metadata": {},
          "output_type": "execute_result"
        }
      ],
      "source": [
        "df = pd.read_sql_query(query_5_4, connection)\n",
        "df"
      ]
    },
    {
      "cell_type": "markdown",
      "id": "0112af31-f6b0-4e3b-82ab-71296e752e5e",
      "metadata": {
        "id": "0112af31-f6b0-4e3b-82ab-71296e752e5e"
      },
      "source": [
        "5. Напишите запрос, чтобы узнать название компании, находящейся на третьем месте в алфавитном списке (по названию) компаний, у которых указано четыре сферы деятельности. "
      ]
    },
    {
      "cell_type": "code",
      "execution_count": 52,
      "id": "973b0cfc-a972-470a-8b4a-68744ef220c4",
      "metadata": {
        "id": "973b0cfc-a972-470a-8b4a-68744ef220c4"
      },
      "outputs": [],
      "source": [
        "# Выводим название компании\n",
        "# Присоединяем к таблице 'employers' таблицу 'employers_industries' и избавляемся от пропусков\n",
        "# Оставляем только те записи, где количество сфер деятельности равно 4\n",
        "# Сортируем данные по названию компании в алфавитном порядке\n",
        "# Лимит вывода устанавливаем согласно необходимым требованиям\n",
        "\n",
        "query_5_5 = f'''\n",
        "SELECT\n",
        "     e.name employer_name\n",
        "FROM\n",
        "     employers e\n",
        "LEFT JOIN employers_industries ei on ei.employer_id = e.id\n",
        "WHERE ei.industry_id IS NOT NULL\n",
        "GROUP BY 1\n",
        "HAVING COUNT(*) = 4\n",
        "ORDER BY 1\n",
        "LIMIT 1 OFFSET 2\n",
        "'''"
      ]
    },
    {
      "cell_type": "code",
      "execution_count": 53,
      "id": "xsPtpp8EsaED",
      "metadata": {
        "id": "xsPtpp8EsaED"
      },
      "outputs": [
        {
          "data": {
            "text/html": [
              "<div>\n",
              "<style scoped>\n",
              "    .dataframe tbody tr th:only-of-type {\n",
              "        vertical-align: middle;\n",
              "    }\n",
              "\n",
              "    .dataframe tbody tr th {\n",
              "        vertical-align: top;\n",
              "    }\n",
              "\n",
              "    .dataframe thead th {\n",
              "        text-align: right;\n",
              "    }\n",
              "</style>\n",
              "<table border=\"1\" class=\"dataframe\">\n",
              "  <thead>\n",
              "    <tr style=\"text-align: right;\">\n",
              "      <th></th>\n",
              "      <th>employer_name</th>\n",
              "    </tr>\n",
              "  </thead>\n",
              "  <tbody>\n",
              "    <tr>\n",
              "      <th>0</th>\n",
              "      <td>2ГИС</td>\n",
              "    </tr>\n",
              "  </tbody>\n",
              "</table>\n",
              "</div>"
            ],
            "text/plain": [
              "  employer_name\n",
              "0          2ГИС"
            ]
          },
          "execution_count": 53,
          "metadata": {},
          "output_type": "execute_result"
        }
      ],
      "source": [
        "df = pd.read_sql_query(query_5_5, connection)\n",
        "df"
      ]
    },
    {
      "cell_type": "markdown",
      "id": "3bfcfdaf-755d-4d2b-8ed8-326201dc07ab",
      "metadata": {
        "id": "3bfcfdaf-755d-4d2b-8ed8-326201dc07ab"
      },
      "source": [
        "6. С помощью запроса выясните, у какого количества работодателей в качестве сферы деятельности указана Разработка программного обеспечения.\n"
      ]
    },
    {
      "cell_type": "code",
      "execution_count": 54,
      "id": "ad3f270f-2991-47eb-929b-e8f88a55b0d1",
      "metadata": {
        "id": "ad3f270f-2991-47eb-929b-e8f88a55b0d1"
      },
      "outputs": [],
      "source": [
        "# Считаем количество получившихся записей после присоединения таблиц 'employers_industries' и 'industries' по необходимому условию\n",
        "# Для корректного подсчёта данные группируем по целевому названию сферы деятельности \n",
        "\n",
        "query_5_6 = f'''\n",
        "SELECT\n",
        "     COUNT(*) employer_cnt\n",
        "FROM\n",
        "     employers_industries ei\n",
        "JOIN industries i ON i.id = ei.industry_id\n",
        "WHERE ei.industry_id IS NOT NULL\n",
        "AND i.name LIKE 'Разработка программного обеспечения'\n",
        "GROUP BY i.name\n",
        "'''"
      ]
    },
    {
      "cell_type": "code",
      "execution_count": 55,
      "id": "H72qxWM0shPR",
      "metadata": {
        "id": "H72qxWM0shPR"
      },
      "outputs": [
        {
          "data": {
            "text/html": [
              "<div>\n",
              "<style scoped>\n",
              "    .dataframe tbody tr th:only-of-type {\n",
              "        vertical-align: middle;\n",
              "    }\n",
              "\n",
              "    .dataframe tbody tr th {\n",
              "        vertical-align: top;\n",
              "    }\n",
              "\n",
              "    .dataframe thead th {\n",
              "        text-align: right;\n",
              "    }\n",
              "</style>\n",
              "<table border=\"1\" class=\"dataframe\">\n",
              "  <thead>\n",
              "    <tr style=\"text-align: right;\">\n",
              "      <th></th>\n",
              "      <th>employer_cnt</th>\n",
              "    </tr>\n",
              "  </thead>\n",
              "  <tbody>\n",
              "    <tr>\n",
              "      <th>0</th>\n",
              "      <td>3553</td>\n",
              "    </tr>\n",
              "  </tbody>\n",
              "</table>\n",
              "</div>"
            ],
            "text/plain": [
              "   employer_cnt\n",
              "0          3553"
            ]
          },
          "execution_count": 55,
          "metadata": {},
          "output_type": "execute_result"
        }
      ],
      "source": [
        "df = pd.read_sql_query(query_5_6, connection)\n",
        "df"
      ]
    },
    {
      "cell_type": "markdown",
      "id": "7b02bb86-0546-40fb-94a4-242f050a5c57",
      "metadata": {
        "id": "7b02bb86-0546-40fb-94a4-242f050a5c57"
      },
      "source": [
        "7. Для компании «Яндекс» выведите список регионов-миллионников, в которых представлены вакансии компании, вместе с количеством вакансий в этих регионах. Также добавьте строку Total с общим количеством вакансий компании. Результат отсортируйте по возрастанию количества.\n",
        "\n",
        "Список городов-милионников надо взять [отсюда](https://ru.wikipedia.org/wiki/%D0%93%D0%BE%D1%80%D0%BE%D0%B4%D0%B0-%D0%BC%D0%B8%D0%BB%D0%BB%D0%B8%D0%BE%D0%BD%D0%B5%D1%80%D1%8B_%D0%A0%D0%BE%D1%81%D1%81%D0%B8%D0%B8). \n",
        "\n",
        "Если возникнут трудности с этим задание посмотрите материалы модуля  PYTHON-17. Как получать данные из веб-источников и API. "
      ]
    },
    {
      "cell_type": "code",
      "execution_count": 56,
      "id": "ZdfrL6gIs1Pn",
      "metadata": {
        "id": "ZdfrL6gIs1Pn"
      },
      "outputs": [
        {
          "name": "stdout",
          "output_type": "stream",
          "text": [
            "Города-миллионеры России — Википедия \n",
            "\n",
            "('Москва', 'Санкт-Петербург', 'Новосибирск', 'Екатеринбург', 'Казань', 'Красноярск', 'Нижний Новгород', 'Челябинск', 'Уфа', 'Самара', 'Ростов-на-Дону', 'Краснодар', 'Омск', 'Воронеж', 'Пермь', 'Волгоград')\n"
          ]
        }
      ],
      "source": [
        "# Импортируем необходимые нам для нахождения списка городов-миллионников библиотеки\n",
        "\n",
        "import requests \n",
        "from bs4 import BeautifulSoup \n",
        "\n",
        "# Задаём ссылку на страницу с таблицей нужных нам городов\n",
        "\n",
        "url = 'https://ru.wikipedia.org/wiki/Города-миллионеры_России' \n",
        "response = requests.get(url)\n",
        "\n",
        "# Далее работа с содержимым страницы\n",
        "\n",
        "page = BeautifulSoup(response.text, 'html.parser') # Создаём объект BeautifulSoup, указывая html-парсер\n",
        "print(page.title.text,'\\n')               \n",
        "tabl = page.find(\"table\", class_=\"standard\")\n",
        "million_cities = []\n",
        "tt = tabl.find(\"tbody\") # В таблице выбираем тело таблицы\n",
        "qq = tt.find_all(\"tr\")  # В теле таблицы выбираем все ряды\n",
        "\n",
        "for ss in qq:\n",
        "  qqq = list(ss.find(\"a\"))              # В каждом ряде находим тег \"а\", преобразуем его в список,\n",
        "  million_cities.append(qqq[0])         # и добавляем содержимое к списку городов\n",
        "million_cities = million_cities[1:]     # В первом ряду кусок от названия, отсекаем его\n",
        "million_cities = tuple(million_cities)  # Получившийся список переводим в кортеж\n",
        "print(million_cities)                   # Проверяем результат на корректность названий и наличие всех необходимых городов"
      ]
    },
    {
      "cell_type": "code",
      "execution_count": 57,
      "id": "5a0e32a4-e68a-4365-8a39-2fe24c542c36",
      "metadata": {
        "id": "5a0e32a4-e68a-4365-8a39-2fe24c542c36"
      },
      "outputs": [],
      "source": [
        "# Создаём новую таблицу с названиями городов-миллионников и количеством вакансий в них \n",
        "# Для этого объединяем таблицу 'vacancies', 'employers' и 'areas'\n",
        "# Оставляем только вакансии компании \"Яндекс\", находящиеся в наших городах-миллионниках \"million_cities\"\n",
        "# Чтобы подсчитать количество вакансий в каждом городе данные необходимо сгруппировать по названию города\n",
        "\n",
        "# Из получившейся таблицы выводим знакомые нам названия городов и количество вакансий в них\n",
        "# Также нам понадобится «счётчик» 'Total' значением которого будет общее количество вакансий во всех городах\n",
        "# Вывод сортируем по возрастанию количества вакансий\n",
        "\n",
        "query_5_7 = f'''\n",
        "WITH towns AS (\n",
        "SELECT\n",
        "     a.name,\n",
        "     COUNT(v.id) cnt\n",
        "FROM\n",
        "     vacancies v\n",
        "JOIN employers e ON e.id = v.employer_id\n",
        "JOIN areas a ON a.id = v.area_id\n",
        "WHERE e.name = 'Яндекс'\n",
        "AND a.name IN {million_cities}\n",
        "GROUP BY a.name\n",
        ")\n",
        "\n",
        "SELECT\n",
        "     towns.name area_name,\n",
        "     towns.cnt vacancies_cnt\n",
        "FROM\n",
        "     towns\n",
        "UNION ALL\n",
        "SELECT\n",
        "     'Total', \n",
        "     sum(towns.cnt)  \n",
        "FROM\n",
        "     towns\n",
        "ORDER BY 2\n",
        "'''"
      ]
    },
    {
      "cell_type": "code",
      "execution_count": 58,
      "id": "ttPhiO1rsvPq",
      "metadata": {
        "id": "ttPhiO1rsvPq"
      },
      "outputs": [
        {
          "data": {
            "text/html": [
              "<div>\n",
              "<style scoped>\n",
              "    .dataframe tbody tr th:only-of-type {\n",
              "        vertical-align: middle;\n",
              "    }\n",
              "\n",
              "    .dataframe tbody tr th {\n",
              "        vertical-align: top;\n",
              "    }\n",
              "\n",
              "    .dataframe thead th {\n",
              "        text-align: right;\n",
              "    }\n",
              "</style>\n",
              "<table border=\"1\" class=\"dataframe\">\n",
              "  <thead>\n",
              "    <tr style=\"text-align: right;\">\n",
              "      <th></th>\n",
              "      <th>area_name</th>\n",
              "      <th>vacancies_cnt</th>\n",
              "    </tr>\n",
              "  </thead>\n",
              "  <tbody>\n",
              "    <tr>\n",
              "      <th>0</th>\n",
              "      <td>Омск</td>\n",
              "      <td>21.0</td>\n",
              "    </tr>\n",
              "    <tr>\n",
              "      <th>1</th>\n",
              "      <td>Челябинск</td>\n",
              "      <td>22.0</td>\n",
              "    </tr>\n",
              "    <tr>\n",
              "      <th>2</th>\n",
              "      <td>Красноярск</td>\n",
              "      <td>23.0</td>\n",
              "    </tr>\n",
              "    <tr>\n",
              "      <th>3</th>\n",
              "      <td>Волгоград</td>\n",
              "      <td>24.0</td>\n",
              "    </tr>\n",
              "    <tr>\n",
              "      <th>4</th>\n",
              "      <td>Пермь</td>\n",
              "      <td>25.0</td>\n",
              "    </tr>\n",
              "    <tr>\n",
              "      <th>5</th>\n",
              "      <td>Казань</td>\n",
              "      <td>25.0</td>\n",
              "    </tr>\n",
              "    <tr>\n",
              "      <th>6</th>\n",
              "      <td>Ростов-на-Дону</td>\n",
              "      <td>25.0</td>\n",
              "    </tr>\n",
              "    <tr>\n",
              "      <th>7</th>\n",
              "      <td>Самара</td>\n",
              "      <td>26.0</td>\n",
              "    </tr>\n",
              "    <tr>\n",
              "      <th>8</th>\n",
              "      <td>Уфа</td>\n",
              "      <td>26.0</td>\n",
              "    </tr>\n",
              "    <tr>\n",
              "      <th>9</th>\n",
              "      <td>Краснодар</td>\n",
              "      <td>30.0</td>\n",
              "    </tr>\n",
              "    <tr>\n",
              "      <th>10</th>\n",
              "      <td>Воронеж</td>\n",
              "      <td>32.0</td>\n",
              "    </tr>\n",
              "    <tr>\n",
              "      <th>11</th>\n",
              "      <td>Новосибирск</td>\n",
              "      <td>35.0</td>\n",
              "    </tr>\n",
              "    <tr>\n",
              "      <th>12</th>\n",
              "      <td>Нижний Новгород</td>\n",
              "      <td>36.0</td>\n",
              "    </tr>\n",
              "    <tr>\n",
              "      <th>13</th>\n",
              "      <td>Екатеринбург</td>\n",
              "      <td>39.0</td>\n",
              "    </tr>\n",
              "    <tr>\n",
              "      <th>14</th>\n",
              "      <td>Санкт-Петербург</td>\n",
              "      <td>42.0</td>\n",
              "    </tr>\n",
              "    <tr>\n",
              "      <th>15</th>\n",
              "      <td>Москва</td>\n",
              "      <td>54.0</td>\n",
              "    </tr>\n",
              "    <tr>\n",
              "      <th>16</th>\n",
              "      <td>Total</td>\n",
              "      <td>485.0</td>\n",
              "    </tr>\n",
              "  </tbody>\n",
              "</table>\n",
              "</div>"
            ],
            "text/plain": [
              "          area_name  vacancies_cnt\n",
              "0              Омск           21.0\n",
              "1         Челябинск           22.0\n",
              "2        Красноярск           23.0\n",
              "3         Волгоград           24.0\n",
              "4             Пермь           25.0\n",
              "5            Казань           25.0\n",
              "6    Ростов-на-Дону           25.0\n",
              "7            Самара           26.0\n",
              "8               Уфа           26.0\n",
              "9         Краснодар           30.0\n",
              "10          Воронеж           32.0\n",
              "11      Новосибирск           35.0\n",
              "12  Нижний Новгород           36.0\n",
              "13     Екатеринбург           39.0\n",
              "14  Санкт-Петербург           42.0\n",
              "15           Москва           54.0\n",
              "16            Total          485.0"
            ]
          },
          "execution_count": 58,
          "metadata": {},
          "output_type": "execute_result"
        }
      ],
      "source": [
        "df = pd.read_sql_query(query_5_7, connection)\n",
        "df"
      ]
    },
    {
      "cell_type": "markdown",
      "id": "04966e40-3bc3-4dc8-9ba2-e80580ce3abc",
      "metadata": {
        "id": "04966e40-3bc3-4dc8-9ba2-e80580ce3abc"
      },
      "source": [
        "***"
      ]
    },
    {
      "cell_type": "markdown",
      "id": "aGGyER-yt4SR",
      "metadata": {
        "id": "aGGyER-yt4SR"
      },
      "source": [
        "Поговорим о том, что нам дал анализ работодателей:\n",
        "\n",
        "1. `Безусловным лидером` по количеству опубликованных вакансий является компания `\"Яндекс\"`, что по совместительству входит в список одних из крупнейших IT-компаний в России. Учитывая рост как самой компании, так и её количества сервисов очевидна потребность в увеличении штата сотрудников. Она же является и лидером по количеству регионов, в которых компания публикует свои вакансии — 181 регион, охватывая при этом все города-миллионники России;\n",
        "\n",
        "2. В наших данных имеются работодатели, у которых `не указана сфера деятельности`. У таких компаний меньший шанс попасть в рекомендацию к соискателю что ищет компании по фильтру `\"Отрасль компании\"` или попасть в подборку тех, что могли бы его заинтересовать. Возможно, такие компании делают акцент на свой департамент *HR*, что самостоятельно откликаются на подходящие по их мнению резюме и уже во время звонка-интервью рассказывают кандидату подробности о компании;\n",
        "\n",
        "3. `Самой популярной` сферой деятельности среди компаний является `\"Разработка программного обеспечения\"`. Она же и сама пополуряная инженерная дисциплина IT в принципе, ведь отвечает как за функционирование, так и за сопровождение всех программных продуктов компании.\n",
        "\n",
        "Теперь мы подойдём к нашим данным со стороны предметного анализа — анализа вакансий, имеющих отношение к данным. Разберём их количество, требуемые ключевые навыки для кандидатов и среднюю заработную плату для каждого типа требуемого опыта работы."
      ]
    },
    {
      "cell_type": "markdown",
      "id": "b1ef156a-efcb-49ce-bb23-90763e7f35b2",
      "metadata": {
        "id": "b1ef156a-efcb-49ce-bb23-90763e7f35b2",
        "tags": []
      },
      "source": [
        "## Юнит 6. Предметный анализ"
      ]
    },
    {
      "cell_type": "markdown",
      "id": "b9cd50a0-992d-4988-8463-2b2b1c4629b4",
      "metadata": {
        "id": "b9cd50a0-992d-4988-8463-2b2b1c4629b4"
      },
      "source": [
        "1. Сколько вакансий имеет отношение к данным?\n",
        "\n",
        "Считаем, что вакансия имеет отношение к данным, если в её названии содержатся слова 'data' или 'данн'.\n",
        "\n",
        "*Подсказка: Обратите внимание, что названия вакансий могут быть написаны в любом регистре.* \n"
      ]
    },
    {
      "cell_type": "code",
      "execution_count": 59,
      "id": "54ab0e50-c0f1-47cc-a54b-bc5c8bc363f9",
      "metadata": {
        "id": "54ab0e50-c0f1-47cc-a54b-bc5c8bc363f9"
      },
      "outputs": [],
      "source": [
        "# Считаем все вакансии, названия которых имеют отношение к данным\n",
        "\n",
        "query_6_1 = f'''\n",
        "SELECT\n",
        "     COUNT(*) vacancies_cnt\n",
        "FROM\n",
        "     vacancies\n",
        "WHERE name ILIKE '%data%'\n",
        "OR name ILIKE '%данн%'\n",
        "'''"
      ]
    },
    {
      "cell_type": "code",
      "execution_count": 60,
      "id": "9F1meAqsuUjd",
      "metadata": {
        "id": "9F1meAqsuUjd"
      },
      "outputs": [
        {
          "data": {
            "text/html": [
              "<div>\n",
              "<style scoped>\n",
              "    .dataframe tbody tr th:only-of-type {\n",
              "        vertical-align: middle;\n",
              "    }\n",
              "\n",
              "    .dataframe tbody tr th {\n",
              "        vertical-align: top;\n",
              "    }\n",
              "\n",
              "    .dataframe thead th {\n",
              "        text-align: right;\n",
              "    }\n",
              "</style>\n",
              "<table border=\"1\" class=\"dataframe\">\n",
              "  <thead>\n",
              "    <tr style=\"text-align: right;\">\n",
              "      <th></th>\n",
              "      <th>vacancies_cnt</th>\n",
              "    </tr>\n",
              "  </thead>\n",
              "  <tbody>\n",
              "    <tr>\n",
              "      <th>0</th>\n",
              "      <td>1771</td>\n",
              "    </tr>\n",
              "  </tbody>\n",
              "</table>\n",
              "</div>"
            ],
            "text/plain": [
              "   vacancies_cnt\n",
              "0           1771"
            ]
          },
          "execution_count": 60,
          "metadata": {},
          "output_type": "execute_result"
        }
      ],
      "source": [
        "df = pd.read_sql_query(query_6_1, connection)\n",
        "df"
      ]
    },
    {
      "cell_type": "markdown",
      "id": "4dea20cb-a36b-474a-a0b9-e08e8e3857a5",
      "metadata": {
        "id": "4dea20cb-a36b-474a-a0b9-e08e8e3857a5"
      },
      "source": [
        "2. Сколько есть подходящих вакансий для начинающего дата-сайентиста? \n",
        "Будем считать вакансиями для дата-сайентистов такие, в названии которых есть хотя бы одно из следующих сочетаний:\n",
        "* 'data scientist'\n",
        "* 'data science'\n",
        "* 'исследователь данных'\n",
        "* 'ML' (здесь не нужно брать вакансии по HTML)\n",
        "* 'machine learning'\n",
        "* 'машинн%обучен%'\n",
        "\n",
        "** В следующих заданиях мы продолжим работать с вакансиями по этому условию.*\n",
        "\n",
        "Считаем вакансиями для специалистов уровня Junior следующие:\n",
        "* в названии есть слово 'junior' *или*\n",
        "* требуемый опыт — Нет опыта *или*\n",
        "* тип трудоустройства — Стажировка.\n",
        " "
      ]
    },
    {
      "cell_type": "code",
      "execution_count": 61,
      "id": "9c61b3c0-bb66-46c9-ae1e-81d3f5752b4a",
      "metadata": {
        "id": "9c61b3c0-bb66-46c9-ae1e-81d3f5752b4a"
      },
      "outputs": [],
      "source": [
        "# Создаём новую таблицу — 'ds' с вакансиями для дата-сайентиста\n",
        "# Для этого записи в таблице 'vacancies' сортируем по вышеупомянутым условиям \n",
        "\n",
        "# В получившейся таблице считаем количество вакансий для начинающего дата-сайентиста\n",
        "# Для подсчёта используем критерии указанные выше\n",
        "\n",
        "query_6_2 = f'''\n",
        "WITH ds AS (\n",
        "SELECT\n",
        "     *\n",
        "FROM\n",
        "     vacancies\n",
        "WHERE (name ILIKE '%data scientist%'\n",
        "OR name ILIKE '%data science%'\n",
        "OR name ILIKE '%исследователь данных%'\n",
        "OR name ILIKE '%ML%'\n",
        "OR name ILIKE '%machine learning%'\n",
        "OR name ILIKE '%машинн%обучен%')\n",
        "AND name NOT ILIKE '%HTML%'\n",
        ")\n",
        "\n",
        "SELECT\n",
        "     COUNT(*) vacancies_cnt\n",
        "FROM\n",
        "     ds\n",
        "WHERE name ILIKE '%junior%'\n",
        "OR experience ILIKE '%Нет опыта%'\n",
        "OR employment ILIKE '%Стажировка%'\n",
        "'''"
      ]
    },
    {
      "cell_type": "code",
      "execution_count": 62,
      "id": "ZNM-LLYuu1dj",
      "metadata": {
        "id": "ZNM-LLYuu1dj"
      },
      "outputs": [
        {
          "data": {
            "text/html": [
              "<div>\n",
              "<style scoped>\n",
              "    .dataframe tbody tr th:only-of-type {\n",
              "        vertical-align: middle;\n",
              "    }\n",
              "\n",
              "    .dataframe tbody tr th {\n",
              "        vertical-align: top;\n",
              "    }\n",
              "\n",
              "    .dataframe thead th {\n",
              "        text-align: right;\n",
              "    }\n",
              "</style>\n",
              "<table border=\"1\" class=\"dataframe\">\n",
              "  <thead>\n",
              "    <tr style=\"text-align: right;\">\n",
              "      <th></th>\n",
              "      <th>vacancies_cnt</th>\n",
              "    </tr>\n",
              "  </thead>\n",
              "  <tbody>\n",
              "    <tr>\n",
              "      <th>0</th>\n",
              "      <td>51</td>\n",
              "    </tr>\n",
              "  </tbody>\n",
              "</table>\n",
              "</div>"
            ],
            "text/plain": [
              "   vacancies_cnt\n",
              "0             51"
            ]
          },
          "execution_count": 62,
          "metadata": {},
          "output_type": "execute_result"
        }
      ],
      "source": [
        "df = pd.read_sql_query(query_6_2, connection)\n",
        "df"
      ]
    },
    {
      "cell_type": "markdown",
      "id": "eedceb80-c5ca-480e-b27a-278dfb8b4438",
      "metadata": {
        "id": "eedceb80-c5ca-480e-b27a-278dfb8b4438"
      },
      "source": [
        "3. Сколько есть вакансий для DS, в которых в качестве ключевого навыка указан SQL или postgres?\n",
        "\n",
        "** Критерии для отнесения вакансии к DS указаны в предыдущем задании.*"
      ]
    },
    {
      "cell_type": "code",
      "execution_count": 63,
      "id": "69621713-0cc5-4f1b-a1d7-bb144fa6148c",
      "metadata": {
        "id": "69621713-0cc5-4f1b-a1d7-bb144fa6148c"
      },
      "outputs": [],
      "source": [
        "# В таблице 'ds' считаем количество вакансий c целевыми ключевыми навыками указанными выше \n",
        "\n",
        "query_6_3 = f'''\n",
        "WITH ds AS (\n",
        "SELECT\n",
        "     *\n",
        "FROM\n",
        "     vacancies\n",
        "WHERE (name ILIKE '%data scientist%'\n",
        "OR name ILIKE '%data science%'\n",
        "OR name ILIKE '%исследователь данных%'\n",
        "OR name ILIKE '%ML%'\n",
        "OR name ILIKE '%machine learning%'\n",
        "OR name ILIKE '%машинн%обучен%')\n",
        "AND name NOT ILIKE '%HTML%'\n",
        ")\n",
        "\n",
        "SELECT\n",
        "     COUNT(*) vacancies_cnt\n",
        "FROM\n",
        "     ds\n",
        "WHERE key_skills ILIKE '%SQL%'\n",
        "OR key_skills ILIKE '%postgres%'\n",
        "'''"
      ]
    },
    {
      "cell_type": "code",
      "execution_count": 64,
      "id": "alA8WEAAvGdf",
      "metadata": {
        "id": "alA8WEAAvGdf"
      },
      "outputs": [
        {
          "data": {
            "text/html": [
              "<div>\n",
              "<style scoped>\n",
              "    .dataframe tbody tr th:only-of-type {\n",
              "        vertical-align: middle;\n",
              "    }\n",
              "\n",
              "    .dataframe tbody tr th {\n",
              "        vertical-align: top;\n",
              "    }\n",
              "\n",
              "    .dataframe thead th {\n",
              "        text-align: right;\n",
              "    }\n",
              "</style>\n",
              "<table border=\"1\" class=\"dataframe\">\n",
              "  <thead>\n",
              "    <tr style=\"text-align: right;\">\n",
              "      <th></th>\n",
              "      <th>vacancies_cnt</th>\n",
              "    </tr>\n",
              "  </thead>\n",
              "  <tbody>\n",
              "    <tr>\n",
              "      <th>0</th>\n",
              "      <td>229</td>\n",
              "    </tr>\n",
              "  </tbody>\n",
              "</table>\n",
              "</div>"
            ],
            "text/plain": [
              "   vacancies_cnt\n",
              "0            229"
            ]
          },
          "execution_count": 64,
          "metadata": {},
          "output_type": "execute_result"
        }
      ],
      "source": [
        "df = pd.read_sql_query(query_6_3, connection)\n",
        "df"
      ]
    },
    {
      "cell_type": "markdown",
      "id": "1be1e9c6-37cf-4a5f-bfeb-04cab799dc80",
      "metadata": {
        "id": "1be1e9c6-37cf-4a5f-bfeb-04cab799dc80"
      },
      "source": [
        "4. Проверьте, насколько популярен Python в требованиях работодателей к DS.Для этого вычислите количество вакансий, в которых в качестве ключевого навыка указан Python.\n",
        "\n",
        "** Это можно сделать помощью запроса, аналогичного предыдущему.*"
      ]
    },
    {
      "cell_type": "code",
      "execution_count": 65,
      "id": "0036a355-9ccf-4564-8b01-73d8194297e7",
      "metadata": {
        "id": "0036a355-9ccf-4564-8b01-73d8194297e7"
      },
      "outputs": [],
      "source": [
        "# Считаем количество вакансий в таблице 'ds' c ключевым навыком \"Python\" \n",
        "\n",
        "query_6_4 = f'''\n",
        "WITH ds AS (\n",
        "SELECT\n",
        "     *\n",
        "FROM\n",
        "     vacancies\n",
        "WHERE (name ILIKE '%data scientist%'\n",
        "OR name ILIKE '%data science%'\n",
        "OR name ILIKE '%исследователь данных%'\n",
        "OR name ILIKE '%ML%'\n",
        "OR name ILIKE '%machine learning%'\n",
        "OR name ILIKE '%машинн%обучен%')\n",
        "AND name NOT ILIKE '%HTML%'\n",
        ")\n",
        "\n",
        "SELECT\n",
        "     COUNT(*) vacancies_cnt\n",
        "FROM\n",
        "     ds\n",
        "WHERE key_skills ILIKE '%Python%'\n",
        "'''"
      ]
    },
    {
      "cell_type": "code",
      "execution_count": 66,
      "id": "1i-5WyucvQ6v",
      "metadata": {
        "id": "1i-5WyucvQ6v"
      },
      "outputs": [
        {
          "data": {
            "text/html": [
              "<div>\n",
              "<style scoped>\n",
              "    .dataframe tbody tr th:only-of-type {\n",
              "        vertical-align: middle;\n",
              "    }\n",
              "\n",
              "    .dataframe tbody tr th {\n",
              "        vertical-align: top;\n",
              "    }\n",
              "\n",
              "    .dataframe thead th {\n",
              "        text-align: right;\n",
              "    }\n",
              "</style>\n",
              "<table border=\"1\" class=\"dataframe\">\n",
              "  <thead>\n",
              "    <tr style=\"text-align: right;\">\n",
              "      <th></th>\n",
              "      <th>vacancies_cnt</th>\n",
              "    </tr>\n",
              "  </thead>\n",
              "  <tbody>\n",
              "    <tr>\n",
              "      <th>0</th>\n",
              "      <td>357</td>\n",
              "    </tr>\n",
              "  </tbody>\n",
              "</table>\n",
              "</div>"
            ],
            "text/plain": [
              "   vacancies_cnt\n",
              "0            357"
            ]
          },
          "execution_count": 66,
          "metadata": {},
          "output_type": "execute_result"
        }
      ],
      "source": [
        "df = pd.read_sql_query(query_6_4, connection)\n",
        "df"
      ]
    },
    {
      "cell_type": "markdown",
      "id": "ec3c8db7-fa21-4a41-a994-1af63742a642",
      "metadata": {
        "id": "ec3c8db7-fa21-4a41-a994-1af63742a642"
      },
      "source": [
        "5. Сколько ключевых навыков в среднем указывают в вакансиях для DS?\n",
        "Ответ округлите до двух знаков после точки-разделителя."
      ]
    },
    {
      "cell_type": "code",
      "execution_count": 67,
      "id": "949132bc-d5b6-4611-8218-0b9a504d74f4",
      "metadata": {
        "id": "949132bc-d5b6-4611-8218-0b9a504d74f4"
      },
      "outputs": [],
      "source": [
        "# Считаем среднее количество ключевых навыков в вакансиях для дата-сайентиста, где они указаны\n",
        "# Полученное число округляем до двух знаков после точки-разделителя\n",
        "\n",
        "query_6_5 = f'''\n",
        "WITH ds AS (\n",
        "SELECT\n",
        "     *\n",
        "FROM\n",
        "     vacancies\n",
        "WHERE (name ILIKE '%data scientist%'\n",
        "OR name ILIKE '%data science%'\n",
        "OR name ILIKE '%исследователь данных%'\n",
        "OR name LIKE '%ML%'\n",
        "OR name ILIKE '%machine learning%'\n",
        "OR name ILIKE '%машинн%обучен%')\n",
        "AND name NOT ILIKE '%HTML%'\n",
        ")\n",
        "\n",
        "SELECT\n",
        "     round(avg(length(key_skills) - length(replace(key_skills, CHR(9), '')) + 1), 2) avg_key_skills\n",
        "FROM\n",
        "     ds\n",
        "WHERE key_skills IS NOT NULL\n",
        "'''"
      ]
    },
    {
      "cell_type": "code",
      "execution_count": 68,
      "id": "a3V24Tvmviqk",
      "metadata": {
        "id": "a3V24Tvmviqk"
      },
      "outputs": [
        {
          "data": {
            "text/html": [
              "<div>\n",
              "<style scoped>\n",
              "    .dataframe tbody tr th:only-of-type {\n",
              "        vertical-align: middle;\n",
              "    }\n",
              "\n",
              "    .dataframe tbody tr th {\n",
              "        vertical-align: top;\n",
              "    }\n",
              "\n",
              "    .dataframe thead th {\n",
              "        text-align: right;\n",
              "    }\n",
              "</style>\n",
              "<table border=\"1\" class=\"dataframe\">\n",
              "  <thead>\n",
              "    <tr style=\"text-align: right;\">\n",
              "      <th></th>\n",
              "      <th>avg_key_skills</th>\n",
              "    </tr>\n",
              "  </thead>\n",
              "  <tbody>\n",
              "    <tr>\n",
              "      <th>0</th>\n",
              "      <td>6.41</td>\n",
              "    </tr>\n",
              "  </tbody>\n",
              "</table>\n",
              "</div>"
            ],
            "text/plain": [
              "   avg_key_skills\n",
              "0            6.41"
            ]
          },
          "execution_count": 68,
          "metadata": {},
          "output_type": "execute_result"
        }
      ],
      "source": [
        "df = pd.read_sql_query(query_6_5, connection)\n",
        "df"
      ]
    },
    {
      "cell_type": "markdown",
      "id": "1041c17a-ca8f-4543-a0ca-32778914fb00",
      "metadata": {
        "id": "1041c17a-ca8f-4543-a0ca-32778914fb00"
      },
      "source": [
        "6. Напишите запрос, позволяющий вычислить, какую зарплату для DS в **среднем** указывают для каждого типа требуемого опыта (уникальное значение из поля *experience*). \n",
        "\n",
        "При решении задачи примите во внимание следующее:\n",
        "1. Рассматриваем только вакансии, у которых заполнено хотя бы одно из двух полей с зарплатой.\n",
        "2. Если заполнены оба поля с зарплатой, то считаем зарплату по каждой вакансии как сумму двух полей, делённую на 2. Если заполнено только одно из полей, то его и считаем зарплатой по вакансии.\n",
        "3. Если в расчётах участвует null, в результате он тоже даст null (посмотрите, что возвращает запрос select 1 + null). Чтобы избежать этой ситуацию, мы воспользуемся функцией [coalesce](https://postgrespro.ru/docs/postgresql/9.5/functions-conditional#functions-coalesce-nvl-ifnull), которая заменит null на значение, которое мы передадим. Например, посмотрите, что возвращает запрос `select 1 + coalesce(null, 0)`\n",
        "\n",
        "Выясните, на какую зарплату в среднем может рассчитывать дата-сайентист с опытом работы от 3 до 6 лет. Результат округлите до целого числа. "
      ]
    },
    {
      "cell_type": "code",
      "execution_count": 69,
      "id": "6a743d39-5204-48d3-8271-b9f88e68d40e",
      "metadata": {
        "id": "6a743d39-5204-48d3-8271-b9f88e68d40e"
      },
      "outputs": [],
      "source": [
        "# Из таблицы с вакансиях для дата-сайентиста выводим значения опыта работы и среднюю ЗП для каждой категории, округлённую до целого числа\n",
        "# Отсекаем все вакансии, где не указана верхняя и нижняя граница уровня заработной платы \n",
        "# Для корректного подсчёта, записи группируем по категориям опыта работы\n",
        "\n",
        "query_6_6 = f'''\n",
        "WITH ds AS (\n",
        "SELECT\n",
        "     *\n",
        "FROM\n",
        "     vacancies\n",
        "WHERE (name ILIKE '%data scientist%'\n",
        "OR name ILIKE '%data science%'\n",
        "OR name ILIKE '%исследователь данных%'\n",
        "OR name LIKE '%ML%'\n",
        "OR name ILIKE '%machine learning%'\n",
        "OR name ILIKE '%машинн%обучен%')\n",
        "AND name NOT ILIKE '%HTML%'\n",
        ")\n",
        "\n",
        "SELECT\n",
        "     experience,\n",
        "     ROUND(AVG(COALESCE((salary_to + salary_from) / 2, salary_from, salary_to)), 0) avg_salary\n",
        "FROM\n",
        "     ds\n",
        "WHERE salary_from IS NOT NULL\n",
        "OR salary_to IS NOT NULL\n",
        "GROUP BY 1\n",
        "'''"
      ]
    },
    {
      "cell_type": "code",
      "execution_count": 70,
      "id": "aRIJ0mZEwU1_",
      "metadata": {
        "id": "aRIJ0mZEwU1_"
      },
      "outputs": [
        {
          "data": {
            "text/html": [
              "<div>\n",
              "<style scoped>\n",
              "    .dataframe tbody tr th:only-of-type {\n",
              "        vertical-align: middle;\n",
              "    }\n",
              "\n",
              "    .dataframe tbody tr th {\n",
              "        vertical-align: top;\n",
              "    }\n",
              "\n",
              "    .dataframe thead th {\n",
              "        text-align: right;\n",
              "    }\n",
              "</style>\n",
              "<table border=\"1\" class=\"dataframe\">\n",
              "  <thead>\n",
              "    <tr style=\"text-align: right;\">\n",
              "      <th></th>\n",
              "      <th>experience</th>\n",
              "      <th>avg_salary</th>\n",
              "    </tr>\n",
              "  </thead>\n",
              "  <tbody>\n",
              "    <tr>\n",
              "      <th>0</th>\n",
              "      <td>От 3 до 6 лет</td>\n",
              "      <td>243115.0</td>\n",
              "    </tr>\n",
              "    <tr>\n",
              "      <th>1</th>\n",
              "      <td>От 1 года до 3 лет</td>\n",
              "      <td>139675.0</td>\n",
              "    </tr>\n",
              "    <tr>\n",
              "      <th>2</th>\n",
              "      <td>Нет опыта</td>\n",
              "      <td>74643.0</td>\n",
              "    </tr>\n",
              "  </tbody>\n",
              "</table>\n",
              "</div>"
            ],
            "text/plain": [
              "           experience  avg_salary\n",
              "0       От 3 до 6 лет    243115.0\n",
              "1  От 1 года до 3 лет    139675.0\n",
              "2           Нет опыта     74643.0"
            ]
          },
          "execution_count": 70,
          "metadata": {},
          "output_type": "execute_result"
        }
      ],
      "source": [
        "df = pd.read_sql_query(query_6_6, connection)\n",
        "df"
      ]
    },
    {
      "cell_type": "markdown",
      "id": "6a7892b4-4113-4746-adce-18aa2844f18e",
      "metadata": {
        "id": "6a7892b4-4113-4746-adce-18aa2844f18e"
      },
      "source": [
        "***"
      ]
    },
    {
      "cell_type": "markdown",
      "id": "UjLWUptVwY1o",
      "metadata": {
        "id": "UjLWUptVwY1o"
      },
      "source": [
        "Из предметного анализа наших данных, мы узнали, что:\n",
        "\n",
        "1. Из общего количества вакансий только 1771 `имеет отношение к данным`, что может говорить о большой конкуренции среди соискателей. Из них 51 вакансия подойдёт для специалистов уровня *`Junior`*, что ещё раз указывает на возможную конкуренцию среди начинающих специалистов;\n",
        "\n",
        "2. В 229 вакансиях в качестве ключевого навыка указан *`SQL`* или *`postgres`*. В 357 указан *`Python`*. Очевидна популярность и явная необходимость вышеперечисленных языков программирования для специалиста *`Data Science`*.\n",
        " \n",
        "    В среднем же ключевых навыков в вакансиях для *`DS`* c учётом вышеперечисленных языков программирования необходимо 6, как указывают работодатели. Компании ожидают от специалиста знаний и опыта, которые помогут выполнять работу эффективнее и быстрее добиваться результата в работе с разными структурами и данными;\n",
        "\n",
        "3. Для специалистов *`DS`* наблюдается быстрый карьерный рост — интенсивность роста заработной платы практически в 2 раза в зависимости от опыта работы, от 76 до 243 тысяч рублей за 3 года!\n",
        "\n",
        "    Это показывает насколько сильно востребованы компаниями высококвалифицированные *`DS`* специалисты.\n",
        "\n",
        "Далее мы проведём заключительный этап нашего проекта — дополнительные исследования для полноты выводов, и наконец подведём итоги проделаной работе. "
      ]
    },
    {
      "cell_type": "markdown",
      "id": "95d04982",
      "metadata": {},
      "source": [
        "## Дополнительные исследования"
      ]
    },
    {
      "cell_type": "markdown",
      "id": "972fcec1",
      "metadata": {},
      "source": [
        "### Каких вакансий много?"
      ]
    },
    {
      "cell_type": "code",
      "execution_count": 71,
      "id": "e1313167",
      "metadata": {},
      "outputs": [],
      "source": [
        "# Выводим ТОП-5 вакансий по их количеству и их средний уровень ЗП из таблицы 'vacancies'\n",
        "# Оставляем только те записи, где указана верхняя или нижняя граница уровня заработной платы\n",
        "# Группируем данные по названию вакансии, а сортируем по их количеству\n",
        "# Лимит вывода устанавливаем согласно ТОП'у (ввиду несовпадения в указании профессий \"Программист 1С\" увеличим вывод на 1)\n",
        "\n",
        "query = f'''\n",
        "SELECT DISTINCT\n",
        "     name vacancy_name,\n",
        "     COUNT(*) vacancies_cnt,\n",
        "     ROUND(AVG(COALESCE((salary_to + salary_from) / 2, salary_from, salary_to)), 0) avg_salary\n",
        "FROM\n",
        "     vacancies\n",
        "WHERE salary_from IS NOT NULL\n",
        "OR salary_to IS NOT NULL\n",
        "GROUP BY 1\n",
        "ORDER BY 2 DESC\n",
        "LIMIT 6\n",
        "'''"
      ]
    },
    {
      "cell_type": "code",
      "execution_count": 72,
      "id": "52d3a33a",
      "metadata": {},
      "outputs": [
        {
          "data": {
            "text/html": [
              "<div>\n",
              "<style scoped>\n",
              "    .dataframe tbody tr th:only-of-type {\n",
              "        vertical-align: middle;\n",
              "    }\n",
              "\n",
              "    .dataframe tbody tr th {\n",
              "        vertical-align: top;\n",
              "    }\n",
              "\n",
              "    .dataframe thead th {\n",
              "        text-align: right;\n",
              "    }\n",
              "</style>\n",
              "<table border=\"1\" class=\"dataframe\">\n",
              "  <thead>\n",
              "    <tr style=\"text-align: right;\">\n",
              "      <th></th>\n",
              "      <th>vacancy_name</th>\n",
              "      <th>vacancies_cnt</th>\n",
              "      <th>avg_salary</th>\n",
              "    </tr>\n",
              "  </thead>\n",
              "  <tbody>\n",
              "    <tr>\n",
              "      <th>0</th>\n",
              "      <td>Системный администратор</td>\n",
              "      <td>1287</td>\n",
              "      <td>50115.0</td>\n",
              "    </tr>\n",
              "    <tr>\n",
              "      <th>1</th>\n",
              "      <td>Программист 1С</td>\n",
              "      <td>729</td>\n",
              "      <td>110189.0</td>\n",
              "    </tr>\n",
              "    <tr>\n",
              "      <th>2</th>\n",
              "      <td>Специалист технической поддержки</td>\n",
              "      <td>335</td>\n",
              "      <td>43211.0</td>\n",
              "    </tr>\n",
              "    <tr>\n",
              "      <th>3</th>\n",
              "      <td>Инженер-программист</td>\n",
              "      <td>279</td>\n",
              "      <td>50478.0</td>\n",
              "    </tr>\n",
              "    <tr>\n",
              "      <th>4</th>\n",
              "      <td>Программист 1C</td>\n",
              "      <td>228</td>\n",
              "      <td>96906.0</td>\n",
              "    </tr>\n",
              "    <tr>\n",
              "      <th>5</th>\n",
              "      <td>Аналитик</td>\n",
              "      <td>197</td>\n",
              "      <td>61197.0</td>\n",
              "    </tr>\n",
              "  </tbody>\n",
              "</table>\n",
              "</div>"
            ],
            "text/plain": [
              "                       vacancy_name  vacancies_cnt  avg_salary\n",
              "0           Системный администратор           1287     50115.0\n",
              "1                    Программист 1С            729    110189.0\n",
              "2  Специалист технической поддержки            335     43211.0\n",
              "3               Инженер-программист            279     50478.0\n",
              "4                    Программист 1C            228     96906.0\n",
              "5                          Аналитик            197     61197.0"
            ]
          },
          "execution_count": 72,
          "metadata": {},
          "output_type": "execute_result"
        }
      ],
      "source": [
        "df = pd.read_sql_query(query, connection)\n",
        "df"
      ]
    },
    {
      "cell_type": "markdown",
      "id": "c55167fd",
      "metadata": {},
      "source": [
        "### Сколько ключевых навыков в среднем указывают в вакансиях для DS с разным опытом работы?"
      ]
    },
    {
      "cell_type": "code",
      "execution_count": 73,
      "id": "43b58cef",
      "metadata": {},
      "outputs": [],
      "source": [
        "# Из таблицы с данными о вакансиях для дата-сайентиста выводим категории опыта работы и среднее количество ключевых навыков для каждой из них\n",
        "# Избавляемся от записей, где не указаны ключевые навыки\n",
        "# Группируем данные по опыту работы. Сортировку проводим по возрастанию среднего количества ключевых навыков\n",
        "\n",
        "query = f'''\n",
        "WITH ds AS (\n",
        "SELECT\n",
        "     *\n",
        "FROM\n",
        "     vacancies\n",
        "WHERE (name ILIKE '%data scientist%'\n",
        "OR name ILIKE '%data science%'\n",
        "OR name ILIKE '%исследователь данных%'\n",
        "OR name LIKE '%ML%'\n",
        "OR name ILIKE '%machine learning%'\n",
        "OR name ILIKE '%машинн%обучен%')\n",
        "AND name NOT ILIKE '%HTML%'\n",
        ")\n",
        "\n",
        "SELECT\n",
        "     experience,\n",
        "     round(avg(length(key_skills) - length(replace(key_skills, CHR(9), '')) + 1), 2) avg_key_skills\n",
        "FROM\n",
        "     ds\n",
        "WHERE key_skills IS NOT NULL\n",
        "GROUP BY 1\n",
        "ORDER BY 2\n",
        "'''"
      ]
    },
    {
      "cell_type": "code",
      "execution_count": 74,
      "id": "ee41d2bc",
      "metadata": {},
      "outputs": [
        {
          "data": {
            "text/html": [
              "<div>\n",
              "<style scoped>\n",
              "    .dataframe tbody tr th:only-of-type {\n",
              "        vertical-align: middle;\n",
              "    }\n",
              "\n",
              "    .dataframe tbody tr th {\n",
              "        vertical-align: top;\n",
              "    }\n",
              "\n",
              "    .dataframe thead th {\n",
              "        text-align: right;\n",
              "    }\n",
              "</style>\n",
              "<table border=\"1\" class=\"dataframe\">\n",
              "  <thead>\n",
              "    <tr style=\"text-align: right;\">\n",
              "      <th></th>\n",
              "      <th>experience</th>\n",
              "      <th>avg_key_skills</th>\n",
              "    </tr>\n",
              "  </thead>\n",
              "  <tbody>\n",
              "    <tr>\n",
              "      <th>0</th>\n",
              "      <td>Более 6 лет</td>\n",
              "      <td>5.94</td>\n",
              "    </tr>\n",
              "    <tr>\n",
              "      <th>1</th>\n",
              "      <td>От 3 до 6 лет</td>\n",
              "      <td>5.99</td>\n",
              "    </tr>\n",
              "    <tr>\n",
              "      <th>2</th>\n",
              "      <td>От 1 года до 3 лет</td>\n",
              "      <td>6.73</td>\n",
              "    </tr>\n",
              "    <tr>\n",
              "      <th>3</th>\n",
              "      <td>Нет опыта</td>\n",
              "      <td>7.42</td>\n",
              "    </tr>\n",
              "  </tbody>\n",
              "</table>\n",
              "</div>"
            ],
            "text/plain": [
              "           experience  avg_key_skills\n",
              "0         Более 6 лет            5.94\n",
              "1       От 3 до 6 лет            5.99\n",
              "2  От 1 года до 3 лет            6.73\n",
              "3           Нет опыта            7.42"
            ]
          },
          "execution_count": 74,
          "metadata": {},
          "output_type": "execute_result"
        }
      ],
      "source": [
        "df = pd.read_sql_query(query, connection)\n",
        "df"
      ]
    },
    {
      "cell_type": "markdown",
      "id": "9ba3fb72",
      "metadata": {},
      "source": [
        "### Что можно сказать об уровнях ЗП в разных городах-миллионниках России?"
      ]
    },
    {
      "cell_type": "code",
      "execution_count": 75,
      "id": "2dee3bf3",
      "metadata": {},
      "outputs": [],
      "source": [
        "# Выводим название города-миллионника и его уровень (среднее значение) ЗП\n",
        "# Для этого к таблице 'areas' присоединяем таблицу 'vacancies'\n",
        "# Проверяем заполненность границ зарплатной вилки и вхождение города в кортеж \"million_cities\"\n",
        "# Для подсчёта данные группируем по названию города, а вывод сортируем по уровню зарплаты в порядке убывания \n",
        "\n",
        "query = f'''\n",
        "SELECT\n",
        "     a.name area_name,\n",
        "     ROUND(AVG(COALESCE((v.salary_to + v.salary_from) / 2, v.salary_from, v.salary_to)), 0) avg_salary\n",
        "FROM\n",
        "     areas a\n",
        "JOIN vacancies v ON v.area_id = a.id\n",
        "WHERE (v.salary_from IS NOT NULL OR v.salary_to IS NOT NULL)\n",
        "AND a.name IN {million_cities}\n",
        "GROUP BY 1\n",
        "ORDER BY 2 DESC\n",
        "'''"
      ]
    },
    {
      "cell_type": "code",
      "execution_count": 76,
      "id": "46f60cf2",
      "metadata": {},
      "outputs": [
        {
          "data": {
            "text/html": [
              "<div>\n",
              "<style scoped>\n",
              "    .dataframe tbody tr th:only-of-type {\n",
              "        vertical-align: middle;\n",
              "    }\n",
              "\n",
              "    .dataframe tbody tr th {\n",
              "        vertical-align: top;\n",
              "    }\n",
              "\n",
              "    .dataframe thead th {\n",
              "        text-align: right;\n",
              "    }\n",
              "</style>\n",
              "<table border=\"1\" class=\"dataframe\">\n",
              "  <thead>\n",
              "    <tr style=\"text-align: right;\">\n",
              "      <th></th>\n",
              "      <th>area_name</th>\n",
              "      <th>avg_salary</th>\n",
              "    </tr>\n",
              "  </thead>\n",
              "  <tbody>\n",
              "    <tr>\n",
              "      <th>0</th>\n",
              "      <td>Москва</td>\n",
              "      <td>134140.0</td>\n",
              "    </tr>\n",
              "    <tr>\n",
              "      <th>1</th>\n",
              "      <td>Новосибирск</td>\n",
              "      <td>107777.0</td>\n",
              "    </tr>\n",
              "    <tr>\n",
              "      <th>2</th>\n",
              "      <td>Санкт-Петербург</td>\n",
              "      <td>104410.0</td>\n",
              "    </tr>\n",
              "    <tr>\n",
              "      <th>3</th>\n",
              "      <td>Нижний Новгород</td>\n",
              "      <td>96059.0</td>\n",
              "    </tr>\n",
              "    <tr>\n",
              "      <th>4</th>\n",
              "      <td>Пермь</td>\n",
              "      <td>95985.0</td>\n",
              "    </tr>\n",
              "    <tr>\n",
              "      <th>5</th>\n",
              "      <td>Ростов-на-Дону</td>\n",
              "      <td>94065.0</td>\n",
              "    </tr>\n",
              "    <tr>\n",
              "      <th>6</th>\n",
              "      <td>Краснодар</td>\n",
              "      <td>92328.0</td>\n",
              "    </tr>\n",
              "    <tr>\n",
              "      <th>7</th>\n",
              "      <td>Казань</td>\n",
              "      <td>92207.0</td>\n",
              "    </tr>\n",
              "    <tr>\n",
              "      <th>8</th>\n",
              "      <td>Екатеринбург</td>\n",
              "      <td>91896.0</td>\n",
              "    </tr>\n",
              "    <tr>\n",
              "      <th>9</th>\n",
              "      <td>Омск</td>\n",
              "      <td>86393.0</td>\n",
              "    </tr>\n",
              "    <tr>\n",
              "      <th>10</th>\n",
              "      <td>Воронеж</td>\n",
              "      <td>84958.0</td>\n",
              "    </tr>\n",
              "    <tr>\n",
              "      <th>11</th>\n",
              "      <td>Самара</td>\n",
              "      <td>80223.0</td>\n",
              "    </tr>\n",
              "    <tr>\n",
              "      <th>12</th>\n",
              "      <td>Челябинск</td>\n",
              "      <td>77463.0</td>\n",
              "    </tr>\n",
              "    <tr>\n",
              "      <th>13</th>\n",
              "      <td>Красноярск</td>\n",
              "      <td>75156.0</td>\n",
              "    </tr>\n",
              "    <tr>\n",
              "      <th>14</th>\n",
              "      <td>Уфа</td>\n",
              "      <td>74733.0</td>\n",
              "    </tr>\n",
              "    <tr>\n",
              "      <th>15</th>\n",
              "      <td>Волгоград</td>\n",
              "      <td>68689.0</td>\n",
              "    </tr>\n",
              "  </tbody>\n",
              "</table>\n",
              "</div>"
            ],
            "text/plain": [
              "          area_name  avg_salary\n",
              "0            Москва    134140.0\n",
              "1       Новосибирск    107777.0\n",
              "2   Санкт-Петербург    104410.0\n",
              "3   Нижний Новгород     96059.0\n",
              "4             Пермь     95985.0\n",
              "5    Ростов-на-Дону     94065.0\n",
              "6         Краснодар     92328.0\n",
              "7            Казань     92207.0\n",
              "8      Екатеринбург     91896.0\n",
              "9              Омск     86393.0\n",
              "10          Воронеж     84958.0\n",
              "11           Самара     80223.0\n",
              "12        Челябинск     77463.0\n",
              "13       Красноярск     75156.0\n",
              "14              Уфа     74733.0\n",
              "15        Волгоград     68689.0"
            ]
          },
          "execution_count": 76,
          "metadata": {},
          "output_type": "execute_result"
        }
      ],
      "source": [
        "df = pd.read_sql_query(query, connection)\n",
        "df"
      ]
    },
    {
      "cell_type": "markdown",
      "id": "b7d78f11",
      "metadata": {},
      "source": [
        "Проведя дополнительный анализ данных, мы можем дополнить наши выводы следующими наблюдениями:\n",
        "\n",
        "1. `Самыми востребованными` специалистами по количеству вакансий являются `\"Системные администраторы\"` — при относительно небольшой средней ЗП эти специалисты нужны в любой компании, где сотрудники работают на компьютерах, ведь они устанавливают, настраивают и поддерживают бесперебойную работу и безопасность *IT*-систем: приложений, сайтов, локальной сети и всего софта в компании. От «сисадмина» будет зависеть, насколько комфортно будет работать команде, будет ли стабильной внутренняя технологическая инфраструктура, как быстро будут устраняться неполадки и насколько оперативно восстанавливается инфраструктура после аварий;\n",
        "\n",
        "   Потому очевидна их необходимость в компаниях, следственно как и количество вакансий на данную должность.\n",
        "\n",
        "2. В среднем для вакансий на роль *Data Scientist* `указывают разное количество ключевых навыков` с разным опытом работы. Тяжелее всего приходится новичкам — категория `\"Нет опыта\"`, где среднее количество ключевых навыков равно 7.42 (что в идеале равно 8). Это подтверждает наш предыдущий вывод из этапа `Предметный анализ` — компании ожидают от специалиста знаний и опыта, которые помогут выполнять работу эффективнее и быстрее добиваться результата в работе с разными структурами и данными.\n",
        "\n",
        "   С увеличением же опыта работы количество необходимых навыков заметно понижается, вплоть до 6. Вероятнее всего это связано с уровнем знания этих самых ключевых навыков кандидатом. Глубокие познания определённых языков программирования позволяют специалисту отлично выполнять свою работу с имеющимися «инструментами» не прибегая к использованию сторонних структур, а потому и необходимость в них отпадает;\n",
        "\n",
        "3. Смотря на уровень ЗП *IT*-специалистов в разных городах-миллионниках России можно отчётливо увидеть какие регионы являются `«движущей силой»` разивития *IT* в России. Об этом нам говорит средний уровень заработной платы, что указывает на большую востребованность в высококвалифицированных и сложных самих по себе профессий."
      ]
    },
    {
      "cell_type": "markdown",
      "id": "c0ED6fh7wiBT",
      "metadata": {
        "id": "c0ED6fh7wiBT"
      },
      "source": [
        "## Общий вывод по проекту"
      ]
    },
    {
      "cell_type": "markdown",
      "id": "h9B3BL-wwj18",
      "metadata": {
        "id": "h9B3BL-wwj18"
      },
      "source": [
        "Подводя итоги всей проделанной работы над данными можно сказать, что рынок труда имеет `положительную динамику` роста вакансий по отношению к сфере *IT* в самых разных сферах деятельности компаний, ввиду как явной `заинтересованности самих компаний` в увеличении штата *IT* сотрудников, так и скорости развития самих *IT* технологий в целом.\n",
        "\n",
        "Отдельно можно отметить:\n",
        "\n",
        "1. `Достойный уровень` заработной платы во всех городах-миллионниках России;\n",
        "\n",
        "2. `Большое общее количество` вакансий в крупных городах и регионах;\n",
        "\n",
        "3. Необходимость в специалистах `«всех мастей»` и количество вакансий на любой вкус, включая предполагаемый тип трудоустройства и занятости;\n",
        "\n",
        "4. `Наличие` работодателей с количеством сфер деятельности больше одной;\n",
        "\n",
        "5. `Размер` самих компаний-нанимателей.\n",
        "\n",
        "Всё вышеперечисленное ещё раз указывает нам на то, что рынок труда *IT* в ближайшие пару лет не будет «стоять на месте», количество вакансий будет лишь увеличиваться, как и потребность работодателей в самых разных специалистах сферы *IT*."
      ]
    },
    {
      "cell_type": "code",
      "execution_count": 77,
      "id": "5fc3ba9e",
      "metadata": {},
      "outputs": [],
      "source": [
        "# Не забываем закрыть соединение после окончания работы\n",
        "\n",
        "connection.close()"
      ]
    }
  ],
  "metadata": {
    "colab": {
      "collapsed_sections": [
        "8d62a9f3-f64e-4fe7-bdac-c4dffa16155e"
      ],
      "provenance": []
    },
    "kernelspec": {
      "display_name": "Python 3 (ipykernel)",
      "language": "python",
      "name": "python3"
    },
    "language_info": {
      "codemirror_mode": {
        "name": "ipython",
        "version": 3
      },
      "file_extension": ".py",
      "mimetype": "text/x-python",
      "name": "python",
      "nbconvert_exporter": "python",
      "pygments_lexer": "ipython3",
      "version": "3.12.2"
    }
  },
  "nbformat": 4,
  "nbformat_minor": 5
}
